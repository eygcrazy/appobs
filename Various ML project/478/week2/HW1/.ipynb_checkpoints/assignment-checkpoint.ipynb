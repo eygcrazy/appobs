{
 "cells": [
  {
   "cell_type": "code",
   "execution_count": null,
   "metadata": {},
   "outputs": [],
   "source": [
    "import numpy as np\n",
    "import pandas as pd\n",
    "import matplotlib.pyplot as plt\n",
    "import seaborn as sns\n",
    "from pandas.plotting import scatter_matrix\n",
    "from sklearn.preprocessing import StandardScaler, MinMaxScaler\n",
    "from sklearn import preprocessing"
   ]
  },
  {
   "cell_type": "code",
   "execution_count": null,
   "metadata": {},
   "outputs": [],
   "source": [
    "%pwd"
   ]
  },
  {
   "cell_type": "code",
   "execution_count": null,
   "metadata": {},
   "outputs": [],
   "source": [
    "bank_df = pd.read_csv('/Users/appobs/Desktop/hw/478/week2/HW1/bank_data.csv', delimiter = ',', sep='\\t')\n",
    "bank_df"
   ]
  },
  {
   "cell_type": "code",
   "execution_count": null,
   "metadata": {},
   "outputs": [],
   "source": [
    "bank_df.head(5)"
   ]
  },
  {
   "cell_type": "code",
   "execution_count": null,
   "metadata": {},
   "outputs": [],
   "source": [
    "bank_df.columns"
   ]
  },
  {
   "cell_type": "code",
   "execution_count": null,
   "metadata": {},
   "outputs": [],
   "source": [
    "bank_df.values"
   ]
  },
  {
   "cell_type": "code",
   "execution_count": null,
   "metadata": {},
   "outputs": [],
   "source": [
    "bank_df.dtypes"
   ]
  },
  {
   "cell_type": "code",
   "execution_count": null,
   "metadata": {},
   "outputs": [],
   "source": []
  },
  {
   "cell_type": "code",
   "execution_count": null,
   "metadata": {},
   "outputs": [],
   "source": [
    "bank_df.describe(include=\"all\")"
   ]
  },
  {
   "cell_type": "code",
   "execution_count": null,
   "metadata": {},
   "outputs": [],
   "source": [
    "bank_df.boxplot(column=[\"age\"], return_type='axes')"
   ]
  },
  {
   "cell_type": "code",
   "execution_count": null,
   "metadata": {},
   "outputs": [],
   "source": [
    "bank_df.boxplot(column=[\"income\"], return_type='axes')"
   ]
  },
  {
   "cell_type": "code",
   "execution_count": null,
   "metadata": {},
   "outputs": [],
   "source": [
    "bank_df.boxplot(column=[\"children\"], return_type='axes')"
   ]
  },
  {
   "cell_type": "code",
   "execution_count": null,
   "metadata": {},
   "outputs": [],
   "source": [
    "bank_df[\"gender\"].value_counts().plot(kind='bar')\n",
    "sns.catplot(x=\"gender\", kind=\"count\", palette=\"ch:.25\", data=bank_df);"
   ]
  },
  {
   "cell_type": "code",
   "execution_count": null,
   "metadata": {},
   "outputs": [],
   "source": []
  },
  {
   "cell_type": "code",
   "execution_count": null,
   "metadata": {},
   "outputs": [],
   "source": [
    "bank_df[\"married\"].value_counts().plot(kind='bar')\n",
    "sns.catplot(x=\"married\", kind=\"count\", palette=\"ch:.25\", data=bank_df);"
   ]
  },
  {
   "cell_type": "code",
   "execution_count": null,
   "metadata": {},
   "outputs": [],
   "source": [
    "bank_df[\"car\"].value_counts().plot(kind='bar')\n",
    "sns.catplot(x=\"car\", kind=\"count\", palette=\"ch:.25\", data=bank_df);"
   ]
  },
  {
   "cell_type": "code",
   "execution_count": null,
   "metadata": {},
   "outputs": [],
   "source": [
    "bank_df[\"savings_acct\"].value_counts().plot(kind='bar')\n",
    "sns.catplot(x=\"savings_acct\", kind=\"count\", palette=\"ch:.25\", data=bank_df);\n"
   ]
  },
  {
   "cell_type": "code",
   "execution_count": null,
   "metadata": {},
   "outputs": [],
   "source": [
    "bank_df[\"current_acct\"].value_counts().plot(kind='bar')\n",
    "sns.catplot(x=\"current_acct\", kind=\"count\", palette=\"ch:.25\", data=bank_df);"
   ]
  },
  {
   "cell_type": "code",
   "execution_count": null,
   "metadata": {},
   "outputs": [],
   "source": [
    "bank_df[\"mortgage\"].value_counts().plot(kind='bar')\n",
    "sns.catplot(x=\"mortgage\", kind=\"count\", palette=\"ch:.25\", data=bank_df);\n"
   ]
  },
  {
   "cell_type": "code",
   "execution_count": null,
   "metadata": {},
   "outputs": [],
   "source": [
    "bank_df[\"pep\"].value_counts().plot(kind='bar')\n",
    "sns.catplot(x=\"pep\", kind=\"count\", palette=\"ch:.25\", data=bank_df);\n"
   ]
  },
  {
   "cell_type": "code",
   "execution_count": null,
   "metadata": {},
   "outputs": [],
   "source": [
    "scatter_matrix(bank_df[['pep',\"age\",\"income\",\"children\",\"gender\",\"region\",\"married\",\"car\",\"savings_acct\",\"current_acct\",\"mortgage\"]], figsize=(14,14), hist_kwds={'bins':8}, alpha=.5, marker='o', s=50)"
   ]
  },
  {
   "cell_type": "code",
   "execution_count": null,
   "metadata": {
    "scrolled": false
   },
   "outputs": [],
   "source": [
    "temp1 = bank_df[\"gender\"].value_counts()/bank_df[\"gender\"].count()\n",
    "temp2 = bank_df[\"region\"].value_counts()/bank_df[\"region\"].count()\n",
    "temp3 = bank_df[\"married\"].value_counts()/bank_df[\"married\"].count()\n",
    "temp4 = bank_df[\"car\"].value_counts()/bank_df[\"car\"].count()\n",
    "temp5 = bank_df[\"savings_acct\"].value_counts()/bank_df[\"savings_acct\"].count()\n",
    "temp6 = bank_df[\"current_acct\"].value_counts()/bank_df[\"current_acct\"].count()\n",
    "temp7 = bank_df[\"mortgage\"].value_counts()/bank_df[\"mortgage\"].count()\n",
    "temp8 = bank_df[\"pep\"].value_counts()/bank_df[\"pep\"].count()\n",
    "\n",
    "\n",
    "fig = plt.figure(figsize=(10,4))\n",
    "ax1 = fig.add_subplot(121)\n",
    "ax1.set_xlabel('gender')\n",
    "ax1.set_ylabel('Percentage')\n",
    "ax1.set_title(\"gender Distribution\")\n",
    "temp1.plot(kind='bar', grid = True)\n",
    "\n",
    "fig = plt.figure(figsize=(10,4))\n",
    "ax1 = fig.add_subplot(121)\n",
    "ax1.set_xlabel('region')\n",
    "ax1.set_ylabel('Percentage')\n",
    "ax1.set_title(\"region Distribution\")\n",
    "temp2.plot(kind='bar', grid = True)\n",
    "\n",
    "fig = plt.figure(figsize=(10,4))\n",
    "ax1 = fig.add_subplot(121)\n",
    "ax1.set_xlabel('married')\n",
    "ax1.set_ylabel('Percentage')\n",
    "ax1.set_title(\"married Distribution\")\n",
    "temp3.plot(kind='bar', grid = True)\n",
    "\n",
    "fig = plt.figure(figsize=(10,4))\n",
    "ax1 = fig.add_subplot(121)\n",
    "ax1.set_xlabel('car')\n",
    "ax1.set_ylabel('Percentage')\n",
    "ax1.set_title(\"car Distribution\")\n",
    "temp4.plot(kind='bar', grid = True)\n",
    "\n",
    "fig = plt.figure(figsize=(10,4))\n",
    "ax1 = fig.add_subplot(121)\n",
    "ax1.set_xlabel('savings_acct')\n",
    "ax1.set_ylabel('Percentage')\n",
    "ax1.set_title(\"savings_acct Distribution\")\n",
    "temp5.plot(kind='bar', grid = True)\n",
    "\n",
    "fig = plt.figure(figsize=(10,4))\n",
    "ax1 = fig.add_subplot(121)\n",
    "ax1.set_xlabel('current_acct')\n",
    "ax1.set_ylabel('Percentage')\n",
    "ax1.set_title(\"current_acct Distribution\")\n",
    "temp6.plot(kind='bar', grid = True)\n",
    "\n",
    "fig = plt.figure(figsize=(10,4))\n",
    "ax1 = fig.add_subplot(121)\n",
    "ax1.set_xlabel('mortgage')\n",
    "ax1.set_ylabel('Percentage')\n",
    "ax1.set_title(\"mortgage Distribution\")\n",
    "temp7.plot(kind='bar', grid = True)\n",
    "\n",
    "fig = plt.figure(figsize=(10,4))\n",
    "ax1 = fig.add_subplot(121)\n",
    "ax1.set_xlabel('pep')\n",
    "ax1.set_ylabel('Percentage')\n",
    "ax1.set_title(\"pep Distribution\")\n",
    "temp8.plot(kind='bar', grid = True)"
   ]
  },
  {
   "cell_type": "code",
   "execution_count": null,
   "metadata": {},
   "outputs": [],
   "source": [
    "bank_df.groupby('pep').describe()"
   ]
  },
  {
   "cell_type": "code",
   "execution_count": null,
   "metadata": {},
   "outputs": [],
   "source": [
    "gg1 = pd.crosstab(bank_df[\"pep\"], bank_df[\"children\"])\n",
    "gg2 = pd.crosstab(bank_df[\"pep\"], bank_df[\"gender\"])\n",
    "gg3 = pd.crosstab(bank_df[\"pep\"], bank_df[\"region\"])\n",
    "gg4 = pd.crosstab(bank_df[\"pep\"], bank_df[\"married\"])\n",
    "gg5 = pd.crosstab(bank_df[\"pep\"], bank_df[\"car\"])\n",
    "gg6 = pd.crosstab(bank_df[\"pep\"], bank_df[\"savings_acct\"])\n",
    "gg7 = pd.crosstab(bank_df[\"pep\"], bank_df[\"current_acct\"])\n",
    "gg8 = pd.crosstab(bank_df[\"pep\"], bank_df[\"mortgage\"])\n",
    "\n",
    "\n",
    "plt.show(gg1.plot(kind = 'bar'))\n",
    "plt.show(gg2.plot(kind = 'bar'))\n",
    "plt.show(gg3.plot(kind = 'bar'))\n",
    "plt.show(gg4.plot(kind = 'bar'))\n",
    "plt.show(gg5.plot(kind = 'bar'))\n",
    "plt.show(gg6.plot(kind = 'bar'))\n",
    "plt.show(gg7.plot(kind = 'bar'))\n",
    "plt.show(gg8.plot(kind = 'bar'))\n"
   ]
  },
  {
   "cell_type": "code",
   "execution_count": null,
   "metadata": {},
   "outputs": [],
   "source": []
  },
  {
   "cell_type": "code",
   "execution_count": null,
   "metadata": {},
   "outputs": [],
   "source": [
    "bank_df.plot(x=\"income\", y=\"age\", kind=\"scatter\")"
   ]
  },
  {
   "cell_type": "code",
   "execution_count": null,
   "metadata": {},
   "outputs": [],
   "source": [
    "plt.hist(bank_df[\"age\"], bins=15, alpha=0.5)\n",
    "plt.xlabel('age')\n",
    "plt.ylabel('Count')\n",
    "plt.title('Histogram of age')\n",
    "plt.grid(True)"
   ]
  },
  {
   "cell_type": "code",
   "execution_count": null,
   "metadata": {},
   "outputs": [],
   "source": [
    "plt.hist(bank_df[\"income\"], bins=9, alpha=0.5)\n",
    "plt.xlabel('income')\n",
    "plt.ylabel('Count')\n",
    "plt.title('Histogram of income')\n",
    "plt.grid(True)"
   ]
  },
  {
   "cell_type": "code",
   "execution_count": null,
   "metadata": {},
   "outputs": [],
   "source": [
    "income_norm = (bank_df[\"income\"] - bank_df[\"income\"].mean()) / bank_df[\"income\"].std()\n",
    "income_norm.head(5)"
   ]
  },
  {
   "cell_type": "code",
   "execution_count": null,
   "metadata": {},
   "outputs": [],
   "source": [
    "inc_bins = pd.qcut(bank_df.age, 3)\n",
    "inc_bins.head(10)"
   ]
  },
  {
   "cell_type": "code",
   "execution_count": null,
   "metadata": {},
   "outputs": [],
   "source": [
    "inc_bins = pd.qcut(bank_df.age, [0, 0.33, 0.66, 1], labels = ['young', 'mid-age', 'old'])\n",
    "#bank_df[\"age\"].value_counts().plot(kind='bar')"
   ]
  },
  {
   "cell_type": "code",
   "execution_count": null,
   "metadata": {},
   "outputs": [],
   "source": [
    "min_max_scaler = preprocessing.MinMaxScaler()\n",
    "\n",
    "#bank_df['income', 'age', 'children'].values.reshape(-1, 1)\n",
    "#bank_df['income'].values.reshape(-1, 1)\n",
    "inc_mms = min_max_scaler.fit_transform(bank_df['income'].values.reshape(-1, 1))\n",
    "bank_df['age'] = age_mms = min_max_scaler.fit_transform(bank_df['age'].values.reshape(-1, 1))\n",
    "bank_df['children'] = chi_mms = min_max_scaler.fit_transform(bank_df['children'].values.reshape(-1, 1))\n",
    "bank_df['income'] = min_max_scaler.fit_transform(bank_df['income'].values.reshape(-1, 1))\n",
    "bank_df.describe()"
   ]
  },
  {
   "cell_type": "code",
   "execution_count": null,
   "metadata": {},
   "outputs": [],
   "source": [
    "bank_dmy = pd.get_dummies(bank_df[['gender','region','married','car','savings_acct','current_acct','mortgage','pep']])\n",
    "bank_dmy.head()"
   ]
  },
  {
   "cell_type": "code",
   "execution_count": null,
   "metadata": {},
   "outputs": [],
   "source": [
    "bank_numeric = pd.concat([bank_df, bank_dmy], axis=1)\n",
    "bank_numeric"
   ]
  },
  {
   "cell_type": "code",
   "execution_count": null,
   "metadata": {},
   "outputs": [],
   "source": [
    "bank_numeric.to_csv(\"/Users/appobs/Desktop/hw/478/week2/bank_numeric.csv\", float_format=\"%1.2f\")"
   ]
  },
  {
   "cell_type": "code",
   "execution_count": null,
   "metadata": {},
   "outputs": [],
   "source": [
    "corr = bank_numeric.corr()\n",
    "corr"
   ]
  },
  {
   "cell_type": "code",
   "execution_count": null,
   "metadata": {},
   "outputs": [],
   "source": [
    "# Filter out all non-high correlated variables which corr < 0.7\n",
    "# False meaning highly correlated with each other\n",
    "fil_out = ~(corr.mask(np.eye(len(corr), dtype=bool)).abs() >= 0.7).any()\n",
    "fil_out"
   ]
  },
  {
   "cell_type": "code",
   "execution_count": null,
   "metadata": {},
   "outputs": [],
   "source": [
    "indices = np.where(corr > 0.5)\n",
    "indices = [(corr.index[x], corr.columns[y]) for x, y in zip(*indices)\n",
    "                                        if x != y and x < y]\n",
    "indices"
   ]
  },
  {
   "cell_type": "code",
   "execution_count": null,
   "metadata": {},
   "outputs": [],
   "source": [
    "# Another apporach of correlation matrix\n",
    "sns.set(style='white')\n",
    "mask = np.zeros_like(corr, dtype=np.bool)\n",
    "mask[np.triu_indices_from(mask)] = True\n",
    "f, ax = plt.subplots(figsize=(11, 9))\n",
    "cmap = sns.diverging_palette(220, 10, as_cmap=True)\n",
    "sns.heatmap(corr, mask=mask, cmap=cmap, vmax=.3, center=0,\n",
    "            square=True, linewidths=.5, cbar_kws={\"shrink\": .5})"
   ]
  },
  {
   "cell_type": "code",
   "execution_count": null,
   "metadata": {},
   "outputs": [],
   "source": []
  },
  {
   "cell_type": "code",
   "execution_count": null,
   "metadata": {},
   "outputs": [],
   "source": []
  },
  {
   "cell_type": "code",
   "execution_count": null,
   "metadata": {},
   "outputs": [],
   "source": []
  }
 ],
 "metadata": {
  "kernelspec": {
   "display_name": "Python 3",
   "language": "python",
   "name": "python3"
  },
  "language_info": {
   "codemirror_mode": {
    "name": "ipython",
    "version": 3
   },
   "file_extension": ".py",
   "mimetype": "text/x-python",
   "name": "python",
   "nbconvert_exporter": "python",
   "pygments_lexer": "ipython3",
   "version": "3.7.3"
  }
 },
 "nbformat": 4,
 "nbformat_minor": 2
}
