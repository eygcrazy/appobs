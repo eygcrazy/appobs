{
 "cells": [
  {
   "cell_type": "code",
   "execution_count": 1,
   "metadata": {},
   "outputs": [
    {
     "name": "stdout",
     "output_type": "stream",
     "text": [
      "Populating the interactive namespace from numpy and matplotlib\n"
     ]
    }
   ],
   "source": [
    "%pylab inline"
   ]
  },
  {
   "cell_type": "code",
   "execution_count": 2,
   "metadata": {},
   "outputs": [],
   "source": [
    "from sklearn.datasets import fetch_20newsgroups\n",
    "\n",
    "news = fetch_20newsgroups(subset='all')\n",
    "\n",
    "# We'll use only the first 3000 documents\n",
    "n_samples = 3000\n",
    "\n",
    "X = news.data[:n_samples]\n",
    "y = news.target[:n_samples]"
   ]
  },
  {
   "cell_type": "code",
   "execution_count": 3,
   "metadata": {},
   "outputs": [
    {
     "data": {
      "text/plain": [
       "[\"From: Mamatha Devineni Ratnam <mr47+@andrew.cmu.edu>\\nSubject: Pens fans reactions\\nOrganization: Post Office, Carnegie Mellon, Pittsburgh, PA\\nLines: 12\\nNNTP-Posting-Host: po4.andrew.cmu.edu\\n\\n\\n\\nI am sure some bashers of Pens fans are pretty confused about the lack\\nof any kind of posts about the recent Pens massacre of the Devils. Actually,\\nI am  bit puzzled too and a bit relieved. However, I am going to put an end\\nto non-PIttsburghers' relief with a bit of praise for the Pens. Man, they\\nare killing those Devils worse than I thought. Jagr just showed you why\\nhe is much better than his regular season stats. He is also a lot\\nfo fun to watch in the playoffs. Bowman should let JAgr have a lot of\\nfun in the next couple of games since the Pens are going to beat the pulp out of Jersey anyway. I was very disappointed not to see the Islanders lose the final\\nregular season game.          PENS RULE!!!\\n\\n\",\n",
       " 'From: mblawson@midway.ecn.uoknor.edu (Matthew B Lawson)\\nSubject: Which high-performance VLB video card?\\nSummary: Seek recommendations for VLB video card\\nNntp-Posting-Host: midway.ecn.uoknor.edu\\nOrganization: Engineering Computer Network, University of Oklahoma, Norman, OK, USA\\nKeywords: orchid, stealth, vlb\\nLines: 21\\n\\n  My brother is in the market for a high-performance video card that supports\\nVESA local bus with 1-2MB RAM.  Does anyone have suggestions/ideas on:\\n\\n  - Diamond Stealth Pro Local Bus\\n\\n  - Orchid Farenheit 1280\\n\\n  - ATI Graphics Ultra Pro\\n\\n  - Any other high-performance VLB card\\n\\n\\nPlease post or email.  Thank you!\\n\\n  - Matt\\n\\n-- \\n    |  Matthew B. Lawson <------------> (mblawson@essex.ecn.uoknor.edu)  |   \\n  --+-- \"Now I, Nebuchadnezzar, praise and exalt and glorify the King  --+-- \\n    |   of heaven, because everything he does is right and all his ways  |   \\n    |   are just.\" - Nebuchadnezzar, king of Babylon, 562 B.C.           |   \\n']"
      ]
     },
     "execution_count": 3,
     "metadata": {},
     "output_type": "execute_result"
    }
   ],
   "source": [
    "X[:2]"
   ]
  },
  {
   "cell_type": "code",
   "execution_count": 4,
   "metadata": {},
   "outputs": [],
   "source": [
    "from sklearn.naive_bayes import MultinomialNB\n",
    "from sklearn.pipeline import Pipeline\n",
    "from sklearn.feature_extraction.text import TfidfVectorizer"
   ]
  },
  {
   "cell_type": "code",
   "execution_count": 6,
   "metadata": {},
   "outputs": [],
   "source": [
    "# Read in the list of stop words\n",
    "def get_stop_words():\n",
    "    result = set()\n",
    "    for line in open('stopwords_en.txt', 'r').readlines():\n",
    "        result.add(line.strip())\n",
    "    return result\n",
    "\n",
    "stop_words = get_stop_words()"
   ]
  },
  {
   "cell_type": "code",
   "execution_count": 8,
   "metadata": {},
   "outputs": [],
   "source": [
    "# TfidfVectorizer performs tokenization, removes stop words, and performs tfxidf transformation\n",
    "\n",
    "tfidf = TfidfVectorizer(stop_words=stop_words, token_pattern=r\"\\b[a-z0-9_\\-\\.]+[a-z][a-z0-9_\\-\\.]+\\b\")"
   ]
  },
  {
   "cell_type": "code",
   "execution_count": 9,
   "metadata": {},
   "outputs": [],
   "source": [
    "X_tfidf = tfidf.fit_transform(X)"
   ]
  },
  {
   "cell_type": "code",
   "execution_count": 10,
   "metadata": {},
   "outputs": [
    {
     "data": {
      "text/plain": [
       "(3000, 57114)"
      ]
     },
     "execution_count": 10,
     "metadata": {},
     "output_type": "execute_result"
    }
   ],
   "source": [
    "X_tfidf.shape"
   ]
  },
  {
   "cell_type": "code",
   "execution_count": 11,
   "metadata": {},
   "outputs": [
    {
     "data": {
      "text/plain": [
       "<3000x57114 sparse matrix of type '<class 'numpy.float64'>'\n",
       "\twith 300362 stored elements in Compressed Sparse Row format>"
      ]
     },
     "execution_count": 11,
     "metadata": {},
     "output_type": "execute_result"
    }
   ],
   "source": [
    "# Note that the transformed data is stored in a sparse matrix (which is much more efficient for large data sets)\n",
    "\n",
    "X_tfidf"
   ]
  },
  {
   "cell_type": "code",
   "execution_count": 12,
   "metadata": {},
   "outputs": [
    {
     "name": "stdout",
     "output_type": "stream",
     "text": [
      "  (0, 44234)\t0.07784251810552512\n",
      "  (0, 21611)\t0.0629754665731824\n",
      "  (0, 20275)\t0.07207470799486403\n",
      "  (0, 30806)\t0.07961348214837946\n",
      "  (0, 27118)\t0.10327444462678373\n",
      "  (0, 16305)\t0.10825085554689588\n",
      "  (0, 27622)\t0.09557861594319107\n",
      "  (0, 41009)\t0.12357807243428796\n",
      "  (0, 7894)\t0.08349613667811626\n",
      "  (0, 21619)\t0.06893886833383445\n",
      "  (0, 13708)\t0.0643253811617751\n",
      "  (0, 30057)\t0.050363214736829996\n",
      "  (0, 9127)\t0.11033752313939182\n",
      "  (0, 39461)\t0.08610665648030909\n",
      "  (0, 54423)\t0.07286610718541295\n",
      "  (0, 21342)\t0.15740585182511238\n",
      "  (0, 30820)\t0.11139663807787663\n",
      "  (0, 48128)\t0.08708364923250081\n",
      "  (0, 45314)\t0.15800117627069288\n",
      "  (0, 42622)\t0.15624817916580655\n",
      "  (0, 8239)\t0.050363214736829996\n",
      "  (0, 46175)\t0.08610665648030909\n",
      "  (0, 28203)\t0.03330802363893816\n",
      "  (0, 27387)\t0.23119101107376427\n",
      "  (0, 50444)\t0.057717484175692085\n",
      "  :\t:\n",
      "  (1, 52871)\t0.04345155095190125\n",
      "  (1, 36145)\t0.09066250993733786\n",
      "  (1, 36913)\t0.09240841103059219\n",
      "  (1, 52504)\t0.029118571337176352\n",
      "  (1, 35362)\t0.06438028530743534\n",
      "  (1, 12845)\t0.04484390483398611\n",
      "  (1, 18472)\t0.0573784901113035\n",
      "  (1, 42356)\t0.09548625489790913\n",
      "  (1, 45402)\t0.08309052802988197\n",
      "  (1, 48908)\t0.05933293778333812\n",
      "  (1, 10580)\t0.22847675427908357\n",
      "  (1, 53629)\t0.19528953861870993\n",
      "  (1, 53830)\t0.3564029927634176\n",
      "  (1, 24305)\t0.3289494799447062\n",
      "  (1, 29725)\t0.24646405743332744\n",
      "  (1, 32141)\t0.15416061573781908\n",
      "  (1, 33164)\t0.22591497897594642\n",
      "  (1, 32280)\t0.24646405743332744\n",
      "  (1, 28203)\t0.031594818509960244\n",
      "  (1, 40064)\t0.09548625489790913\n",
      "  (1, 35837)\t0.027292266181961986\n",
      "  (1, 30381)\t0.014847744201734363\n",
      "  (1, 39908)\t0.05208277099703957\n",
      "  (1, 37323)\t0.015391954504262968\n",
      "  (1, 48689)\t0.014823026792650918\n"
     ]
    }
   ],
   "source": [
    "print (X_tfidf[:2])"
   ]
  },
  {
   "cell_type": "code",
   "execution_count": 13,
   "metadata": {},
   "outputs": [],
   "source": [
    "# It's possible (though not usually necessary) to convert the matrix into a \"dense\" matrix\n",
    "\n",
    "newX = X_tfidf.todense()"
   ]
  },
  {
   "cell_type": "code",
   "execution_count": 14,
   "metadata": {},
   "outputs": [
    {
     "data": {
      "text/plain": [
       "(3000, 57114)"
      ]
     },
     "execution_count": 14,
     "metadata": {},
     "output_type": "execute_result"
    }
   ],
   "source": [
    "newX.shape"
   ]
  },
  {
   "cell_type": "code",
   "execution_count": 15,
   "metadata": {},
   "outputs": [
    {
     "name": "stdout",
     "output_type": "stream",
     "text": [
      "[[0. 0. 0. 0. 0. 0. 0. 0. 0. 0. 0. 0. ... 0. 0. 0. 0. 0. 0. 0. 0. 0. 0. 0. 0.]\n",
      " [0. 0. 0. 0. 0. 0. 0. 0. 0. 0. 0. 0. ... 0. 0. 0. 0. 0. 0. 0. 0. 0. 0. 0. 0.]\n",
      " [0. 0. 0. 0. 0. 0. 0. 0. 0. 0. 0. 0. ... 0. 0. 0. 0. 0. 0. 0. 0. 0. 0. 0. 0.]\n",
      " [0. 0. 0. 0. 0. 0. 0. 0. 0. 0. 0. 0. ... 0. 0. 0. 0. 0. 0. 0. 0. 0. 0. 0. 0.]\n",
      " [0. 0. 0. 0. 0. 0. 0. 0. 0. 0. 0. 0. ... 0. 0. 0. 0. 0. 0. 0. 0. 0. 0. 0. 0.]\n",
      " [0. 0. 0. 0. 0. 0. 0. 0. 0. 0. 0. 0. ... 0. 0. 0. 0. 0. 0. 0. 0. 0. 0. 0. 0.]\n",
      " [0. 0. 0. 0. 0. 0. 0. 0. 0. 0. 0. 0. ... 0. 0. 0. 0. 0. 0. 0. 0. 0. 0. 0. 0.]\n",
      " [0. 0. 0. 0. 0. 0. 0. 0. 0. 0. 0. 0. ... 0. 0. 0. 0. 0. 0. 0. 0. 0. 0. 0. 0.]\n",
      " [0. 0. 0. 0. 0. 0. 0. 0. 0. 0. 0. 0. ... 0. 0. 0. 0. 0. 0. 0. 0. 0. 0. 0. 0.]\n",
      " [0. 0. 0. 0. 0. 0. 0. 0. 0. 0. 0. 0. ... 0. 0. 0. 0. 0. 0. 0. 0. 0. 0. 0. 0.]]\n"
     ]
    }
   ],
   "source": [
    "np.set_printoptions(linewidth=120, edgeitems=12)\n",
    "print (newX[:10])"
   ]
  },
  {
   "cell_type": "code",
   "execution_count": 16,
   "metadata": {},
   "outputs": [
    {
     "data": {
      "text/plain": [
       "matrix([[ 6.38255787],\n",
       "        [ 6.22316442],\n",
       "        [11.10466984],\n",
       "        [ 8.01377232],\n",
       "        [ 6.59598284],\n",
       "        [ 8.64254062],\n",
       "        [ 4.08752316],\n",
       "        [ 8.23253906],\n",
       "        [ 6.9290635 ],\n",
       "        [ 5.54138631],\n",
       "        [ 6.36652435],\n",
       "        [ 5.6413991 ],\n",
       "        ...,\n",
       "        [ 9.56666541],\n",
       "        [11.19261544],\n",
       "        [ 4.75115972],\n",
       "        [ 6.31888744],\n",
       "        [ 7.1462622 ],\n",
       "        [ 6.72387298],\n",
       "        [ 6.76975027],\n",
       "        [ 7.00729698],\n",
       "        [ 5.90752046],\n",
       "        [ 9.89775822],\n",
       "        [ 6.17808897],\n",
       "        [ 7.46697255]])"
      ]
     },
     "execution_count": 16,
     "metadata": {},
     "output_type": "execute_result"
    }
   ],
   "source": [
    "newX.sum(axis=1)"
   ]
  },
  {
   "cell_type": "code",
   "execution_count": 18,
   "metadata": {},
   "outputs": [],
   "source": [
    "# Fortunately, scikit-learn modules handle sparse matrices natively\n",
    "\n",
    "# Let's create a pipeline to perform preprocessing and to build the model\n",
    "clf = Pipeline([\n",
    "    ('vect', TfidfVectorizer(\n",
    "                stop_words=stop_words,\n",
    "                token_pattern=r\"\\b[a-z0-9_\\-\\.]+[a-z][a-z0-9_\\-\\.]+\\b\",         \n",
    "    )),\n",
    "    ('nb', MultinomialNB(alpha=0.01)),\n",
    "])"
   ]
  },
  {
   "cell_type": "code",
   "execution_count": 37,
   "metadata": {},
   "outputs": [],
   "source": [
    "from sklearn.model_selection import cross_val_score, KFold\n",
    "from scipy.stats import sem\n",
    "\n",
    "def evaluate_cross_validation(clf, X, y, K):\n",
    "    # create a k-fold croos validation iterator of k=5 folds\n",
    "    #cv = KFold(len(y), K, shuffle=True, random_state=0)\n",
    "    cv = KFold(n_splits=K,random_state=None, shuffle=False)\n",
    "    cv.split(X)\n",
    "    # by default the score used is the one returned by score method of the estimator (accuracy)\n",
    "    scores = cross_val_score(clf, X, y, cv=cv)\n",
    "    print (scores)\n",
    "    avg_score = np.mean(scores)\n",
    "    error = sem(scores)\n",
    "    print (\"Mean score: {0:.3f} (+/-{1:.3f})\".format(np.mean(scores), sem(scores)))"
   ]
  },
  {
   "cell_type": "code",
   "execution_count": 38,
   "metadata": {},
   "outputs": [
    {
     "name": "stdout",
     "output_type": "stream",
     "text": [
      "[0.824 0.809 0.82 ]\n",
      "Mean score: 0.818 (+/-0.004)\n"
     ]
    }
   ],
   "source": [
    "evaluate_cross_validation(clf, X, y, 3)"
   ]
  },
  {
   "cell_type": "code",
   "execution_count": 40,
   "metadata": {},
   "outputs": [],
   "source": [
    "def calc_params(X, y, clf, param_values, param_name, K):\n",
    "    # initialize training and testing scores with zeros\n",
    "    train_scores = np.zeros(len(param_values))\n",
    "    test_scores = np.zeros(len(param_values))\n",
    "    \n",
    "    # iterate over the different parameter values\n",
    "    for i, param_value in enumerate(param_values):\n",
    "        print (param_name, ' = ', param_value)\n",
    "        \n",
    "        # set classifier parameters\n",
    "        clf.set_params(**{param_name:param_value})\n",
    "        \n",
    "        # initialize the K scores obtained for each fold\n",
    "        k_train_scores = np.zeros(K)\n",
    "        k_test_scores = np.zeros(K)\n",
    "        \n",
    "        # create KFold cross validation\n",
    "        #cv = KFold(n_samples, K, shuffle=True, random_state=0)\n",
    "        cv = KFold(n_splits=K,random_state=None, shuffle=False)\n",
    "        #cv.split(X)\n",
    "        \n",
    "        \n",
    "        # iterate over the K folds\n",
    "        for j, (train, test) in enumerate(cv.split(X)):\n",
    "            # fit the classifier in the corresponding fold\n",
    "            # and obtain the corresponding accuracy scores on train and test sets\n",
    "            clf.fit([X[k] for k in train], y[train])\n",
    "            k_train_scores[j] = clf.score([X[k] for k in train], y[train])\n",
    "            k_test_scores[j] = clf.score([X[k] for k in test], y[test])\n",
    "            \n",
    "        # store the mean of the K fold scores\n",
    "        train_scores[i] = np.mean(k_train_scores)\n",
    "        test_scores[i] = np.mean(k_test_scores)\n",
    "       \n",
    "    # plot the training and testing scores in a log scale\n",
    "    plt.semilogx(param_values, train_scores, alpha=0.4, lw=2, c='b')\n",
    "    plt.semilogx(param_values, test_scores, alpha=0.4, lw=2, c='g')\n",
    "    \n",
    "    plt.xlabel(param_name + \" values\")\n",
    "    plt.ylabel(\"Mean cross validation accuracy\")\n",
    "\n",
    "    # return the training and testing scores on each parameter value\n",
    "    return train_scores, test_scores"
   ]
  },
  {
   "cell_type": "code",
   "execution_count": 41,
   "metadata": {},
   "outputs": [
    {
     "name": "stdout",
     "output_type": "stream",
     "text": [
      "[1.e-07 1.e-06 1.e-05 1.e-04 1.e-03 1.e-02 1.e-01 1.e+00]\n"
     ]
    }
   ],
   "source": [
    "alphas = np.logspace(-7, 0, 8)\n",
    "print (alphas)"
   ]
  },
  {
   "cell_type": "code",
   "execution_count": 42,
   "metadata": {},
   "outputs": [
    {
     "name": "stdout",
     "output_type": "stream",
     "text": [
      "nb__alpha  =  1e-07\n",
      "nb__alpha  =  1e-06\n",
      "nb__alpha  =  1e-05\n",
      "nb__alpha  =  0.0001\n",
      "nb__alpha  =  0.001\n",
      "nb__alpha  =  0.01\n",
      "nb__alpha  =  0.1\n",
      "nb__alpha  =  1.0\n"
     ]
    },
    {
     "data": {
      "image/png": "[encoded data removed]",
      "text/plain": [
       "<Figure size 432x288 with 1 Axes>"
      ]
     },
     "metadata": {
      "needs_background": "light"
     },
     "output_type": "display_data"
    }
   ],
   "source": [
    "train_scores, test_scores = calc_params(X, y, clf, alphas, 'nb__alpha', 3)"
   ]
  },
  {
   "cell_type": "code",
   "execution_count": 43,
   "metadata": {},
   "outputs": [
    {
     "name": "stdout",
     "output_type": "stream",
     "text": [
      "training scores:  [1.         1.         1.         1.         1.         1.         0.9965     0.97466667]\n",
      "testing scores:  [0.76466667 0.77033333 0.77666667 0.78566667 0.80233333 0.81766667 0.812      0.751     ]\n"
     ]
    }
   ],
   "source": [
    "print ('training scores: ', train_scores)\n",
    "print ('testing scores: ', test_scores)"
   ]
  },
  {
   "cell_type": "markdown",
   "metadata": {},
   "source": [
    "#### Let's try Support Vector Machines for classification"
   ]
  },
  {
   "cell_type": "code",
   "execution_count": 44,
   "metadata": {},
   "outputs": [],
   "source": [
    "from sklearn.svm import SVC\n",
    "\n",
    "clf = Pipeline([\n",
    "    ('vect', TfidfVectorizer(\n",
    "                stop_words=stop_words,\n",
    "                token_pattern=r\"\\b[a-z0-9_\\-\\.]+[a-z][a-z0-9_\\-\\.]+\\b\",         \n",
    "    )),\n",
    "    ('svc', SVC()),\n",
    "])"
   ]
  },
  {
   "cell_type": "code",
   "execution_count": 45,
   "metadata": {},
   "outputs": [
    {
     "name": "stdout",
     "output_type": "stream",
     "text": [
      "svc__gamma  =  0.01\n",
      "svc__gamma  =  0.1\n",
      "svc__gamma  =  1.0\n",
      "svc__gamma  =  10.0\n"
     ]
    },
    {
     "data": {
      "image/png": "[encoded data removed]",
      "text/plain": [
       "<Figure size 432x288 with 1 Axes>"
      ]
     },
     "metadata": {
      "needs_background": "light"
     },
     "output_type": "display_data"
    }
   ],
   "source": [
    "gammas = np.logspace(-2, 1, 4)\n",
    "\n",
    "train_scores, test_scores = calc_params(X, y, clf, gammas, 'svc__gamma', 3)"
   ]
  },
  {
   "cell_type": "code",
   "execution_count": 46,
   "metadata": {},
   "outputs": [
    {
     "name": "stdout",
     "output_type": "stream",
     "text": [
      "training scores:  [0.06066667 0.23783333 0.9995     1.        ]\n",
      "testing scores:  [0.05233333 0.144      0.74733333 0.05666667]\n"
     ]
    }
   ],
   "source": [
    "print ('training scores: ', train_scores)\n",
    "print ('testing scores: ', test_scores)"
   ]
  },
  {
   "cell_type": "markdown",
   "metadata": {},
   "source": [
    "For gamma < 1 we have underfitting. For gamma > 1 we have overfitting. So here, the best result is for gamma = 1 where we obtain a training an accuracy of 0.999 and a testing accuracy of 0.75"
   ]
  },
  {
   "cell_type": "code",
   "execution_count": 49,
   "metadata": {},
   "outputs": [],
   "source": [
    "from sklearn.model_selection import GridSearchCV\n",
    "\n",
    "parameters = {\n",
    "    'svc__gamma': np.logspace(-2, 1, 4),\n",
    "    'svc__C': np.logspace(-1, 1, 3),\n",
    "}\n",
    "\n",
    "clf = Pipeline([\n",
    "    ('vect', TfidfVectorizer(\n",
    "                stop_words=stop_words,\n",
    "                token_pattern=r\"\\b[a-z0-9_\\-\\.]+[a-z][a-z0-9_\\-\\.]+\\b\",         \n",
    "    )),\n",
    "    ('svc', SVC()),\n",
    "])\n",
    "\n",
    "gs = GridSearchCV(clf, parameters, verbose=2, cv=3)"
   ]
  },
  {
   "cell_type": "code",
   "execution_count": 50,
   "metadata": {},
   "outputs": [
    {
     "name": "stdout",
     "output_type": "stream",
     "text": [
      "Fitting 3 folds for each of 12 candidates, totalling 36 fits\n",
      "[CV] svc__C=0.1, svc__gamma=0.01 .....................................\n"
     ]
    },
    {
     "name": "stderr",
     "output_type": "stream",
     "text": [
      "[Parallel(n_jobs=1)]: Using backend SequentialBackend with 1 concurrent workers.\n"
     ]
    },
    {
     "name": "stdout",
     "output_type": "stream",
     "text": [
      "[CV] ...................... svc__C=0.1, svc__gamma=0.01, total=   7.5s\n",
      "[CV] svc__C=0.1, svc__gamma=0.01 .....................................\n"
     ]
    },
    {
     "name": "stderr",
     "output_type": "stream",
     "text": [
      "[Parallel(n_jobs=1)]: Done   1 out of   1 | elapsed:    7.5s remaining:    0.0s\n"
     ]
    },
    {
     "name": "stdout",
     "output_type": "stream",
     "text": [
      "[CV] ...................... svc__C=0.1, svc__gamma=0.01, total=   7.0s\n",
      "[CV] svc__C=0.1, svc__gamma=0.01 .....................................\n",
      "[CV] ...................... svc__C=0.1, svc__gamma=0.01, total=   7.0s\n",
      "[CV] svc__C=0.1, svc__gamma=0.1 ......................................\n",
      "[CV] ....................... svc__C=0.1, svc__gamma=0.1, total=   7.0s\n",
      "[CV] svc__C=0.1, svc__gamma=0.1 ......................................\n",
      "[CV] ....................... svc__C=0.1, svc__gamma=0.1, total=   7.0s\n",
      "[CV] svc__C=0.1, svc__gamma=0.1 ......................................\n",
      "[CV] ....................... svc__C=0.1, svc__gamma=0.1, total=   7.1s\n",
      "[CV] svc__C=0.1, svc__gamma=1.0 ......................................\n",
      "[CV] ....................... svc__C=0.1, svc__gamma=1.0, total=   7.1s\n",
      "[CV] svc__C=0.1, svc__gamma=1.0 ......................................\n",
      "[CV] ....................... svc__C=0.1, svc__gamma=1.0, total=   7.1s\n",
      "[CV] svc__C=0.1, svc__gamma=1.0 ......................................\n",
      "[CV] ....................... svc__C=0.1, svc__gamma=1.0, total=   7.1s\n",
      "[CV] svc__C=0.1, svc__gamma=10.0 .....................................\n",
      "[CV] ...................... svc__C=0.1, svc__gamma=10.0, total=   7.2s\n",
      "[CV] svc__C=0.1, svc__gamma=10.0 .....................................\n",
      "[CV] ...................... svc__C=0.1, svc__gamma=10.0, total=   7.2s\n",
      "[CV] svc__C=0.1, svc__gamma=10.0 .....................................\n",
      "[CV] ...................... svc__C=0.1, svc__gamma=10.0, total=   7.4s\n",
      "[CV] svc__C=1.0, svc__gamma=0.01 .....................................\n",
      "[CV] ...................... svc__C=1.0, svc__gamma=0.01, total=   7.1s\n",
      "[CV] svc__C=1.0, svc__gamma=0.01 .....................................\n",
      "[CV] ...................... svc__C=1.0, svc__gamma=0.01, total=   7.1s\n",
      "[CV] svc__C=1.0, svc__gamma=0.01 .....................................\n",
      "[CV] ...................... svc__C=1.0, svc__gamma=0.01, total=   7.1s\n",
      "[CV] svc__C=1.0, svc__gamma=0.1 ......................................\n",
      "[CV] ....................... svc__C=1.0, svc__gamma=0.1, total=   7.0s\n",
      "[CV] svc__C=1.0, svc__gamma=0.1 ......................................\n",
      "[CV] ....................... svc__C=1.0, svc__gamma=0.1, total=   7.0s\n",
      "[CV] svc__C=1.0, svc__gamma=0.1 ......................................\n",
      "[CV] ....................... svc__C=1.0, svc__gamma=0.1, total=   7.2s\n",
      "[CV] svc__C=1.0, svc__gamma=1.0 ......................................\n",
      "[CV] ....................... svc__C=1.0, svc__gamma=1.0, total=   7.2s\n",
      "[CV] svc__C=1.0, svc__gamma=1.0 ......................................\n",
      "[CV] ....................... svc__C=1.0, svc__gamma=1.0, total=   7.2s\n",
      "[CV] svc__C=1.0, svc__gamma=1.0 ......................................\n",
      "[CV] ....................... svc__C=1.0, svc__gamma=1.0, total=   7.2s\n",
      "[CV] svc__C=1.0, svc__gamma=10.0 .....................................\n",
      "[CV] ...................... svc__C=1.0, svc__gamma=10.0, total=   7.1s\n",
      "[CV] svc__C=1.0, svc__gamma=10.0 .....................................\n",
      "[CV] ...................... svc__C=1.0, svc__gamma=10.0, total=   7.1s\n",
      "[CV] svc__C=1.0, svc__gamma=10.0 .....................................\n",
      "[CV] ...................... svc__C=1.0, svc__gamma=10.0, total=   7.2s\n",
      "[CV] svc__C=10.0, svc__gamma=0.01 ....................................\n",
      "[CV] ..................... svc__C=10.0, svc__gamma=0.01, total=   6.9s\n",
      "[CV] svc__C=10.0, svc__gamma=0.01 ....................................\n",
      "[CV] ..................... svc__C=10.0, svc__gamma=0.01, total=   6.9s\n",
      "[CV] svc__C=10.0, svc__gamma=0.01 ....................................\n",
      "[CV] ..................... svc__C=10.0, svc__gamma=0.01, total=   7.1s\n",
      "[CV] svc__C=10.0, svc__gamma=0.1 .....................................\n",
      "[CV] ...................... svc__C=10.0, svc__gamma=0.1, total=   7.0s\n",
      "[CV] svc__C=10.0, svc__gamma=0.1 .....................................\n",
      "[CV] ...................... svc__C=10.0, svc__gamma=0.1, total=   7.1s\n",
      "[CV] svc__C=10.0, svc__gamma=0.1 .....................................\n",
      "[CV] ...................... svc__C=10.0, svc__gamma=0.1, total=   7.2s\n",
      "[CV] svc__C=10.0, svc__gamma=1.0 .....................................\n",
      "[CV] ...................... svc__C=10.0, svc__gamma=1.0, total=   7.1s\n",
      "[CV] svc__C=10.0, svc__gamma=1.0 .....................................\n",
      "[CV] ...................... svc__C=10.0, svc__gamma=1.0, total=   7.1s\n",
      "[CV] svc__C=10.0, svc__gamma=1.0 .....................................\n",
      "[CV] ...................... svc__C=10.0, svc__gamma=1.0, total=   7.2s\n",
      "[CV] svc__C=10.0, svc__gamma=10.0 ....................................\n",
      "[CV] ..................... svc__C=10.0, svc__gamma=10.0, total=   7.1s\n",
      "[CV] svc__C=10.0, svc__gamma=10.0 ....................................\n",
      "[CV] ..................... svc__C=10.0, svc__gamma=10.0, total=   7.2s\n",
      "[CV] svc__C=10.0, svc__gamma=10.0 ....................................\n",
      "[CV] ..................... svc__C=10.0, svc__gamma=10.0, total=   7.4s\n"
     ]
    },
    {
     "name": "stderr",
     "output_type": "stream",
     "text": [
      "[Parallel(n_jobs=1)]: Done  36 out of  36 | elapsed:  4.3min finished\n"
     ]
    },
    {
     "name": "stdout",
     "output_type": "stream",
     "text": [
      "CPU times: user 4min 25s, sys: 47.4 ms, total: 4min 25s\n",
      "Wall time: 4min 28s\n"
     ]
    },
    {
     "data": {
      "text/plain": [
       "({'svc__C': 10.0, 'svc__gamma': 0.1}, 0.8266666666666667)"
      ]
     },
     "execution_count": 50,
     "metadata": {},
     "output_type": "execute_result"
    }
   ],
   "source": [
    "%time _ = gs.fit(X, y)\n",
    "\n",
    "gs.best_params_, gs.best_score_"
   ]
  },
  {
   "cell_type": "markdown",
   "metadata": {},
   "source": [
    "With the grid search we obtained a better combination of C and gamma parameters, for values 10.0 and 0.10 respectively, we obtained a 3-fold cross validation accuracy of 0.828 much better than the best value we obtained (0.76) in the previous experiment by only adjusting gamma and keeeping C value at 1.0."
   ]
  }
 ],
 "metadata": {
  "kernelspec": {
   "display_name": "Python 3",
   "language": "python",
   "name": "python3"
  },
  "language_info": {
   "codemirror_mode": {
    "name": "ipython",
    "version": 3
   },
   "file_extension": ".py",
   "mimetype": "text/x-python",
   "name": "python",
   "nbconvert_exporter": "python",
   "pygments_lexer": "ipython3",
   "version": "3.7.4"
  }
 },
 "nbformat": 4,
 "nbformat_minor": 2
}
