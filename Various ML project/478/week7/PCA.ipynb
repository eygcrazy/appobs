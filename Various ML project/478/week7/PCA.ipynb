{
 "cells": [
  {
   "cell_type": "code",
   "execution_count": 1,
   "metadata": {},
   "outputs": [],
   "source": [
    "import numpy as np"
   ]
  },
  {
   "cell_type": "code",
   "execution_count": 2,
   "metadata": {},
   "outputs": [],
   "source": [
    "X = np.array([[10,20,10],\n",
    "              [2,5,2],\n",
    "              [8,17,7],\n",
    "              [9,20,10],\n",
    "              [12,22,11]])"
   ]
  },
  {
   "cell_type": "code",
   "execution_count": 3,
   "metadata": {},
   "outputs": [
    {
     "name": "stdout",
     "output_type": "stream",
     "text": [
      "[[10 20 10]\n",
      " [ 2  5  2]\n",
      " [ 8 17  7]\n",
      " [ 9 20 10]\n",
      " [12 22 11]]\n"
     ]
    }
   ],
   "source": [
    "print (X)"
   ]
  },
  {
   "cell_type": "code",
   "execution_count": 4,
   "metadata": {
    "scrolled": true
   },
   "outputs": [
    {
     "name": "stdout",
     "output_type": "stream",
     "text": [
      "[[14.2  25.3  13.5 ]\n",
      " [25.3  46.7  24.75]\n",
      " [13.5  24.75 13.5 ]]\n"
     ]
    }
   ],
   "source": [
    "X = np.mat(X)\n",
    "meanVals = np.mean(X, axis=0)\n",
    "A = X - meanVals              # A is the zero-mean (centered) version of X\n",
    "C = np.cov(A, rowvar=0)       # C is the covarianvce matrix of X\n",
    "print (C)"
   ]
  },
  {
   "cell_type": "code",
   "execution_count": 5,
   "metadata": {},
   "outputs": [
    {
     "name": "stdout",
     "output_type": "stream",
     "text": [
      "[[14.2  25.3  13.5 ]\n",
      " [25.3  46.7  24.75]\n",
      " [13.5  24.75 13.5 ]]\n"
     ]
    }
   ],
   "source": [
    "# Note that C = (1/(N-1)) A.T*A\n",
    "\n",
    "print (np.dot(A.T,A)/(np.shape(X)[0]-1))"
   ]
  },
  {
   "cell_type": "markdown",
   "metadata": {},
   "source": [
    "#### Now we can obtain eigenvalues and eigenvectors of the covariance matrix:"
   ]
  },
  {
   "cell_type": "code",
   "execution_count": 6,
   "metadata": {},
   "outputs": [
    {
     "name": "stdout",
     "output_type": "stream",
     "text": [
      "Eigenvalues:\n",
      "[73.72  0.38  0.3 ]\n",
      "Eigenvectors:\n",
      "[[ 0.43  0.9  -0.04]\n",
      " [ 0.79 -0.41 -0.45]\n",
      " [ 0.42 -0.16  0.89]]\n"
     ]
    }
   ],
   "source": [
    "np.set_printoptions(precision=2,suppress=True)\n",
    "e, ev = np.linalg.eig(C)\n",
    "print (\"Eigenvalues:\")\n",
    "print (e)\n",
    "print (\"Eigenvectors:\")\n",
    "print (ev)"
   ]
  },
  {
   "cell_type": "markdown",
   "metadata": {},
   "source": [
    "#### We can transform the full data into the new feature space based on the eigenvectors:"
   ]
  },
  {
   "cell_type": "code",
   "execution_count": 7,
   "metadata": {},
   "outputs": [
    {
     "name": "stdout",
     "output_type": "stream",
     "text": [
      "[[  4.17   0.     0.26]\n",
      " [-14.61   0.17   0.25]\n",
      " [ -0.35  -0.1   -0.97]\n",
      " [  3.74  -0.9    0.3 ]\n",
      " [  7.05   0.83   0.16]]\n"
     ]
    }
   ],
   "source": [
    "newFeatures = ev.T\n",
    "XTrans = np.dot(newFeatures, A.T)\n",
    "print (XTrans.T)"
   ]
  },
  {
   "cell_type": "markdown",
   "metadata": {},
   "source": [
    "#### However, typically, we want a lower-dimensional space. We can sort the eigenvectors in the decreasing order of their eigenvalues and take the top k. In the example below, we'll take only the top first principal component (since it has the largest eigenvalue, no sorting necessary):"
   ]
  },
  {
   "cell_type": "code",
   "execution_count": 8,
   "metadata": {},
   "outputs": [
    {
     "name": "stdout",
     "output_type": "stream",
     "text": [
      "[[  4.17]\n",
      " [-14.61]\n",
      " [ -0.35]\n",
      " [  3.74]\n",
      " [  7.05]]\n"
     ]
    }
   ],
   "source": [
    "reducedFeatures = ev[:,0].T\n",
    "redcuedXTrans = np.dot(reducedFeatures, A.T)\n",
    "print (redcuedXTrans.T)"
   ]
  },
  {
   "cell_type": "markdown",
   "metadata": {},
   "source": [
    "#### We can also use Scikit-learn decomposition module to do the same thing:"
   ]
  },
  {
   "cell_type": "code",
   "execution_count": 9,
   "metadata": {},
   "outputs": [],
   "source": [
    "from sklearn import decomposition"
   ]
  },
  {
   "cell_type": "code",
   "execution_count": 10,
   "metadata": {},
   "outputs": [],
   "source": [
    "pca = decomposition.PCA()\n",
    "XTrans2 = pca.fit_transform(X)"
   ]
  },
  {
   "cell_type": "code",
   "execution_count": 11,
   "metadata": {},
   "outputs": [
    {
     "name": "stdout",
     "output_type": "stream",
     "text": [
      "[[-4.17 -0.   -0.26]\n",
      " [14.61 -0.17 -0.25]\n",
      " [ 0.35  0.1   0.97]\n",
      " [-3.74  0.9  -0.3 ]\n",
      " [-7.05 -0.83 -0.16]]\n"
     ]
    }
   ],
   "source": [
    "print (XTrans2)"
   ]
  },
  {
   "cell_type": "markdown",
   "metadata": {},
   "source": [
    "#### The remaining part of this notebook, is another example of using PCA for dimensionality reduction:"
   ]
  },
  {
   "cell_type": "code",
   "execution_count": 12,
   "metadata": {},
   "outputs": [],
   "source": [
    "M = np.array([[2.5, 2.4],\n",
    "           [0.5, 0.7],\n",
    "           [2.2, 2.9],\n",
    "           [1.9, 2.2],\n",
    "           [3.1, 3.0],\n",
    "           [2.3, 2.7],\n",
    "           [2, 1.6],\n",
    "           [1, 1.1],\n",
    "           [1.5, 1.6],\n",
    "           [1.1, 0.9]])"
   ]
  },
  {
   "cell_type": "code",
   "execution_count": 13,
   "metadata": {},
   "outputs": [
    {
     "name": "stdout",
     "output_type": "stream",
     "text": [
      "Zero Mean Matrix:\n",
      " [[ 0.69  0.49]\n",
      " [-1.31 -1.21]\n",
      " [ 0.39  0.99]\n",
      " [ 0.09  0.29]\n",
      " [ 1.29  1.09]\n",
      " [ 0.49  0.79]\n",
      " [ 0.19 -0.31]\n",
      " [-0.81 -0.81]\n",
      " [-0.31 -0.31]\n",
      " [-0.71 -1.01]] \n",
      "\n",
      "Covariance Matrix:\n",
      " [[0.62 0.62]\n",
      " [0.62 0.72]] \n",
      "\n"
     ]
    }
   ],
   "source": [
    "meanM = np.mean(M, axis=0)\n",
    "MC = M - meanM             # MC is the zero-mean (centered) version of X\n",
    "CovM = np.cov(MC, rowvar=0)    # CovM is the covarianvce matrix of M\n",
    "print (\"Zero Mean Matrix:\\n\", MC,\"\\n\")\n",
    "print (\"Covariance Matrix:\\n\", CovM,\"\\n\")"
   ]
  },
  {
   "cell_type": "code",
   "execution_count": 14,
   "metadata": {},
   "outputs": [
    {
     "name": "stdout",
     "output_type": "stream",
     "text": [
      "Eigenvalues:\n",
      " [0.05 1.28] \n",
      "\n",
      "Eigenvectors:\n",
      " [[-0.74 -0.68]\n",
      " [ 0.68 -0.74]] \n",
      "\n"
     ]
    }
   ],
   "source": [
    "eigVals, eigVecs = np.linalg.eig(CovM)\n",
    "print (\"Eigenvalues:\\n\", eigVals,\"\\n\")\n",
    "print (\"Eigenvectors:\\n\", eigVecs,\"\\n\")"
   ]
  },
  {
   "cell_type": "code",
   "execution_count": 15,
   "metadata": {},
   "outputs": [],
   "source": [
    "newFeatures = eigVecs[:,1].T"
   ]
  },
  {
   "cell_type": "code",
   "execution_count": 16,
   "metadata": {},
   "outputs": [
    {
     "name": "stdout",
     "output_type": "stream",
     "text": [
      "[[-0.83]\n",
      " [ 1.78]\n",
      " [-0.99]\n",
      " [-0.27]\n",
      " [-1.68]\n",
      " [-0.91]\n",
      " [ 0.1 ]\n",
      " [ 1.14]\n",
      " [ 0.44]\n",
      " [ 1.22]]\n"
     ]
    }
   ],
   "source": [
    "MTrans = np.dot(newFeatures, MC.T)\n",
    "print (np.mat(MTrans).T)"
   ]
  },
  {
   "cell_type": "code",
   "execution_count": 17,
   "metadata": {},
   "outputs": [
    {
     "name": "stdout",
     "output_type": "stream",
     "text": [
      "[[-0.83]\n",
      " [ 1.78]\n",
      " [-0.99]\n",
      " [-0.27]\n",
      " [-1.68]\n",
      " [-0.91]\n",
      " [ 0.1 ]\n",
      " [ 1.14]\n",
      " [ 0.44]\n",
      " [ 1.22]]\n"
     ]
    }
   ],
   "source": [
    "pca2 = decomposition.PCA(n_components=1)\n",
    "MTrans2 = pca2.fit_transform(M)\n",
    "print (MTrans2)"
   ]
  },
  {
   "cell_type": "code",
   "execution_count": 25,
   "metadata": {},
   "outputs": [
    {
     "name": "stdout",
     "output_type": "stream",
     "text": [
      "[0.99 0.01 0.  ]\n"
     ]
    },
    {
     "data": {
      "image/png": "[encoded data removed]",
      "text/plain": [
       "<Figure size 432x288 with 1 Axes>"
      ]
     },
     "metadata": {
      "needs_background": "light"
     },
     "output_type": "display_data"
    }
   ],
   "source": [
    "print(pca.explained_variance_ratio_)\n",
    "from matplotlib import*\n",
    "import matplotlib.pyplot as plt\n",
    "%matplotlib inline\n",
    "#plt.plot(np.cumsum(pca.explained_variance_ratio_))\n",
    "plt.plot((pca.explained_variance_ratio_))\n",
    "plt.xlabel('number of components')\n",
    "plt.ylabel('cumulative explained variance')\n",
    "plt.show()"
   ]
  },
  {
   "cell_type": "code",
   "execution_count": null,
   "metadata": {},
   "outputs": [],
   "source": []
  },
  {
   "cell_type": "code",
   "execution_count": null,
   "metadata": {},
   "outputs": [],
   "source": []
  }
 ],
 "metadata": {
  "kernelspec": {
   "display_name": "Python 3",
   "language": "python",
   "name": "python3"
  },
  "language_info": {
   "codemirror_mode": {
    "name": "ipython",
    "version": 3
   },
   "file_extension": ".py",
   "mimetype": "text/x-python",
   "name": "python",
   "nbconvert_exporter": "python",
   "pygments_lexer": "ipython3",
   "version": "3.7.3"
  }
 },
 "nbformat": 4,
 "nbformat_minor": 2
}
