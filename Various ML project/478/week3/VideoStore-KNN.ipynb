{
 "cells": [
  {
   "cell_type": "markdown",
   "metadata": {},
   "source": [
    "#### In this example we will look at how to use the K-Nearest_Neighbor algorithm for classification. We will use a modified version of the Video Store data set for this example. We will use the \"Incidentals\" attribute as the target attribute for classification (the class attribute). The goal is to be able to classify an unseen instance as \"Yes\" or \"No\" given the values of \"Incidentals\" from training instances."
   ]
  },
  {
   "cell_type": "code",
   "execution_count": 1,
   "metadata": {},
   "outputs": [],
   "source": [
    "import numpy as np\n",
    "import pandas as pd"
   ]
  },
  {
   "cell_type": "code",
   "execution_count": 2,
   "metadata": {},
   "outputs": [
    {
     "name": "stdout",
     "output_type": "stream",
     "text": [
      "[Errno 2] No such file or directory: 'C:UsersmobasherDocumentsData'\n",
      "/Users/appobs/Desktop/hw/478/week3\n"
     ]
    }
   ],
   "source": [
    "cd C:\\Users\\mobasher\\Documents\\Data"
   ]
  },
  {
   "cell_type": "code",
   "execution_count": 3,
   "metadata": {},
   "outputs": [
    {
     "data": {
      "text/plain": [
       "(50, 7)"
      ]
     },
     "execution_count": 3,
     "metadata": {},
     "output_type": "execute_result"
    }
   ],
   "source": [
    "vstable = pd.read_csv(\"/Users/appobs/Desktop/hw/478/week3/Video_Store_2.csv\", index_col=0)\n",
    "vstable.shape"
   ]
  },
  {
   "cell_type": "code",
   "execution_count": 4,
   "metadata": {},
   "outputs": [
    {
     "data": {
      "text/html": [
       "<div>\n",
       "<style scoped>\n",
       "    .dataframe tbody tr th:only-of-type {\n",
       "        vertical-align: middle;\n",
       "    }\n",
       "\n",
       "    .dataframe tbody tr th {\n",
       "        vertical-align: top;\n",
       "    }\n",
       "\n",
       "    .dataframe thead th {\n",
       "        text-align: right;\n",
       "    }\n",
       "</style>\n",
       "<table border=\"1\" class=\"dataframe\">\n",
       "  <thead>\n",
       "    <tr style=\"text-align: right;\">\n",
       "      <th></th>\n",
       "      <th>Gender</th>\n",
       "      <th>Income</th>\n",
       "      <th>Age</th>\n",
       "      <th>Rentals</th>\n",
       "      <th>Avg Per Visit</th>\n",
       "      <th>Genre</th>\n",
       "      <th>Incidentals</th>\n",
       "    </tr>\n",
       "    <tr>\n",
       "      <th>Cust ID</th>\n",
       "      <th></th>\n",
       "      <th></th>\n",
       "      <th></th>\n",
       "      <th></th>\n",
       "      <th></th>\n",
       "      <th></th>\n",
       "      <th></th>\n",
       "    </tr>\n",
       "  </thead>\n",
       "  <tbody>\n",
       "    <tr>\n",
       "      <th>1</th>\n",
       "      <td>M</td>\n",
       "      <td>45000</td>\n",
       "      <td>25</td>\n",
       "      <td>32</td>\n",
       "      <td>2.5</td>\n",
       "      <td>Action</td>\n",
       "      <td>Yes</td>\n",
       "    </tr>\n",
       "    <tr>\n",
       "      <th>2</th>\n",
       "      <td>F</td>\n",
       "      <td>54000</td>\n",
       "      <td>33</td>\n",
       "      <td>12</td>\n",
       "      <td>3.4</td>\n",
       "      <td>Drama</td>\n",
       "      <td>No</td>\n",
       "    </tr>\n",
       "    <tr>\n",
       "      <th>3</th>\n",
       "      <td>F</td>\n",
       "      <td>32000</td>\n",
       "      <td>20</td>\n",
       "      <td>42</td>\n",
       "      <td>1.6</td>\n",
       "      <td>Comedy</td>\n",
       "      <td>No</td>\n",
       "    </tr>\n",
       "    <tr>\n",
       "      <th>4</th>\n",
       "      <td>F</td>\n",
       "      <td>59000</td>\n",
       "      <td>70</td>\n",
       "      <td>16</td>\n",
       "      <td>4.2</td>\n",
       "      <td>Drama</td>\n",
       "      <td>Yes</td>\n",
       "    </tr>\n",
       "    <tr>\n",
       "      <th>5</th>\n",
       "      <td>M</td>\n",
       "      <td>37000</td>\n",
       "      <td>35</td>\n",
       "      <td>25</td>\n",
       "      <td>3.2</td>\n",
       "      <td>Action</td>\n",
       "      <td>Yes</td>\n",
       "    </tr>\n",
       "  </tbody>\n",
       "</table>\n",
       "</div>"
      ],
      "text/plain": [
       "        Gender  Income  Age  Rentals  Avg Per Visit   Genre Incidentals\n",
       "Cust ID                                                                \n",
       "1            M   45000   25       32            2.5  Action         Yes\n",
       "2            F   54000   33       12            3.4   Drama          No\n",
       "3            F   32000   20       42            1.6  Comedy          No\n",
       "4            F   59000   70       16            4.2   Drama         Yes\n",
       "5            M   37000   35       25            3.2  Action         Yes"
      ]
     },
     "execution_count": 4,
     "metadata": {},
     "output_type": "execute_result"
    }
   ],
   "source": [
    "vstable.head()"
   ]
  },
  {
   "cell_type": "markdown",
   "metadata": {},
   "source": [
    "#### We will be splitting the data into a test and training partions with the test partition to be used for evaluating model error-rate and the training partition to be used to find the K nearest neighbors. Before spliting the data we need to do a random reshuffling to make sure the instances are randomized."
   ]
  },
  {
   "cell_type": "code",
   "execution_count": 5,
   "metadata": {},
   "outputs": [
    {
     "data": {
      "text/html": [
       "<div>\n",
       "<style scoped>\n",
       "    .dataframe tbody tr th:only-of-type {\n",
       "        vertical-align: middle;\n",
       "    }\n",
       "\n",
       "    .dataframe tbody tr th {\n",
       "        vertical-align: top;\n",
       "    }\n",
       "\n",
       "    .dataframe thead th {\n",
       "        text-align: right;\n",
       "    }\n",
       "</style>\n",
       "<table border=\"1\" class=\"dataframe\">\n",
       "  <thead>\n",
       "    <tr style=\"text-align: right;\">\n",
       "      <th></th>\n",
       "      <th>Gender</th>\n",
       "      <th>Income</th>\n",
       "      <th>Age</th>\n",
       "      <th>Rentals</th>\n",
       "      <th>Avg Per Visit</th>\n",
       "      <th>Genre</th>\n",
       "      <th>Incidentals</th>\n",
       "    </tr>\n",
       "    <tr>\n",
       "      <th>Cust ID</th>\n",
       "      <th></th>\n",
       "      <th></th>\n",
       "      <th></th>\n",
       "      <th></th>\n",
       "      <th></th>\n",
       "      <th></th>\n",
       "      <th></th>\n",
       "    </tr>\n",
       "  </thead>\n",
       "  <tbody>\n",
       "    <tr>\n",
       "      <th>1</th>\n",
       "      <td>M</td>\n",
       "      <td>45000</td>\n",
       "      <td>25</td>\n",
       "      <td>32</td>\n",
       "      <td>2.5</td>\n",
       "      <td>Action</td>\n",
       "      <td>Yes</td>\n",
       "    </tr>\n",
       "    <tr>\n",
       "      <th>42</th>\n",
       "      <td>M</td>\n",
       "      <td>32000</td>\n",
       "      <td>25</td>\n",
       "      <td>26</td>\n",
       "      <td>2.2</td>\n",
       "      <td>Action</td>\n",
       "      <td>Yes</td>\n",
       "    </tr>\n",
       "    <tr>\n",
       "      <th>23</th>\n",
       "      <td>F</td>\n",
       "      <td>2000</td>\n",
       "      <td>15</td>\n",
       "      <td>30</td>\n",
       "      <td>2.5</td>\n",
       "      <td>Comedy</td>\n",
       "      <td>No</td>\n",
       "    </tr>\n",
       "    <tr>\n",
       "      <th>31</th>\n",
       "      <td>F</td>\n",
       "      <td>49000</td>\n",
       "      <td>56</td>\n",
       "      <td>15</td>\n",
       "      <td>3.2</td>\n",
       "      <td>Comedy</td>\n",
       "      <td>No</td>\n",
       "    </tr>\n",
       "    <tr>\n",
       "      <th>16</th>\n",
       "      <td>M</td>\n",
       "      <td>17000</td>\n",
       "      <td>19</td>\n",
       "      <td>26</td>\n",
       "      <td>2.2</td>\n",
       "      <td>Action</td>\n",
       "      <td>Yes</td>\n",
       "    </tr>\n",
       "    <tr>\n",
       "      <th>2</th>\n",
       "      <td>F</td>\n",
       "      <td>54000</td>\n",
       "      <td>33</td>\n",
       "      <td>12</td>\n",
       "      <td>3.4</td>\n",
       "      <td>Drama</td>\n",
       "      <td>No</td>\n",
       "    </tr>\n",
       "    <tr>\n",
       "      <th>32</th>\n",
       "      <td>M</td>\n",
       "      <td>47000</td>\n",
       "      <td>30</td>\n",
       "      <td>21</td>\n",
       "      <td>3.1</td>\n",
       "      <td>Drama</td>\n",
       "      <td>Yes</td>\n",
       "    </tr>\n",
       "    <tr>\n",
       "      <th>18</th>\n",
       "      <td>F</td>\n",
       "      <td>6000</td>\n",
       "      <td>16</td>\n",
       "      <td>39</td>\n",
       "      <td>1.8</td>\n",
       "      <td>Action</td>\n",
       "      <td>Yes</td>\n",
       "    </tr>\n",
       "    <tr>\n",
       "      <th>27</th>\n",
       "      <td>F</td>\n",
       "      <td>62000</td>\n",
       "      <td>47</td>\n",
       "      <td>32</td>\n",
       "      <td>3.6</td>\n",
       "      <td>Drama</td>\n",
       "      <td>No</td>\n",
       "    </tr>\n",
       "    <tr>\n",
       "      <th>38</th>\n",
       "      <td>M</td>\n",
       "      <td>41000</td>\n",
       "      <td>38</td>\n",
       "      <td>20</td>\n",
       "      <td>3.3</td>\n",
       "      <td>Drama</td>\n",
       "      <td>Yes</td>\n",
       "    </tr>\n",
       "  </tbody>\n",
       "</table>\n",
       "</div>"
      ],
      "text/plain": [
       "        Gender  Income  Age  Rentals  Avg Per Visit   Genre Incidentals\n",
       "Cust ID                                                                \n",
       "1            M   45000   25       32            2.5  Action         Yes\n",
       "42           M   32000   25       26            2.2  Action         Yes\n",
       "23           F    2000   15       30            2.5  Comedy          No\n",
       "31           F   49000   56       15            3.2  Comedy          No\n",
       "16           M   17000   19       26            2.2  Action         Yes\n",
       "2            F   54000   33       12            3.4   Drama          No\n",
       "32           M   47000   30       21            3.1   Drama         Yes\n",
       "18           F    6000   16       39            1.8  Action         Yes\n",
       "27           F   62000   47       32            3.6   Drama          No\n",
       "38           M   41000   38       20            3.3   Drama         Yes"
      ]
     },
     "execution_count": 5,
     "metadata": {},
     "output_type": "execute_result"
    }
   ],
   "source": [
    "vs = vstable.reindex(np.random.permutation(vstable.index))\n",
    "vs.head(10)"
   ]
  },
  {
   "cell_type": "code",
   "execution_count": 6,
   "metadata": {},
   "outputs": [
    {
     "data": {
      "text/plain": [
       "50"
      ]
     },
     "execution_count": 6,
     "metadata": {},
     "output_type": "execute_result"
    }
   ],
   "source": [
    "len(vs)"
   ]
  },
  {
   "cell_type": "code",
   "execution_count": 7,
   "metadata": {},
   "outputs": [
    {
     "data": {
      "text/plain": [
       "array(['Gender', 'Income', 'Age', 'Rentals', 'Avg Per Visit', 'Genre',\n",
       "       'Incidentals'], dtype=object)"
      ]
     },
     "execution_count": 7,
     "metadata": {},
     "output_type": "execute_result"
    }
   ],
   "source": [
    "vs_names = vs.columns.values\n",
    "vs_names"
   ]
  },
  {
   "cell_type": "markdown",
   "metadata": {},
   "source": [
    "#### The target attribute for classification is Incidentals:"
   ]
  },
  {
   "cell_type": "code",
   "execution_count": 8,
   "metadata": {},
   "outputs": [],
   "source": [
    "vs_target = vs.Incidentals"
   ]
  },
  {
   "cell_type": "markdown",
   "metadata": {},
   "source": [
    "#### Before we can compute distances we need to convert the data (excluding the target attribute containing the class labels) into standard spreadsheet format with binary dummy variables for categorical attributes)."
   ]
  },
  {
   "cell_type": "code",
   "execution_count": 9,
   "metadata": {},
   "outputs": [
    {
     "data": {
      "text/plain": [
       "array(['Income', 'Age', 'Rentals', 'Avg Per Visit', 'Gender_F',\n",
       "       'Gender_M', 'Genre_Action', 'Genre_Comedy', 'Genre_Drama'],\n",
       "      dtype=object)"
      ]
     },
     "execution_count": 9,
     "metadata": {},
     "output_type": "execute_result"
    }
   ],
   "source": [
    "vs = pd.get_dummies(vs[['Gender','Income','Age','Rentals','Avg Per Visit','Genre']])\n",
    "vs.head(10)\n",
    "vs_names = vs.columns.values\n",
    "vs_names"
   ]
  },
  {
   "cell_type": "markdown",
   "metadata": {},
   "source": [
    "#### To be able to evaluate the accuracy of our predictions, we will split the data into training and test sets. In this case, we will use 80% for training and the remaining 20% for testing. Note that we must also do the same split to the target attribute."
   ]
  },
  {
   "cell_type": "code",
   "execution_count": 10,
   "metadata": {},
   "outputs": [],
   "source": [
    "tpercent = 0.8\n",
    "tsize = int(np.floor(tpercent * len(vs)))\n",
    "vs_train = vs[:tsize]\n",
    "vs_test = vs[tsize:]"
   ]
  },
  {
   "cell_type": "code",
   "execution_count": 11,
   "metadata": {},
   "outputs": [
    {
     "name": "stdout",
     "output_type": "stream",
     "text": [
      "(40, 9)\n",
      "(10, 9)\n"
     ]
    }
   ],
   "source": [
    "print (vs_train.shape)\n",
    "print (vs_test.shape)"
   ]
  },
  {
   "cell_type": "code",
   "execution_count": 12,
   "metadata": {},
   "outputs": [
    {
     "data": {
      "text/html": [
       "<div>\n",
       "<style scoped>\n",
       "    .dataframe tbody tr th:only-of-type {\n",
       "        vertical-align: middle;\n",
       "    }\n",
       "\n",
       "    .dataframe tbody tr th {\n",
       "        vertical-align: top;\n",
       "    }\n",
       "\n",
       "    .dataframe thead th {\n",
       "        text-align: right;\n",
       "    }\n",
       "</style>\n",
       "<table border=\"1\" class=\"dataframe\">\n",
       "  <thead>\n",
       "    <tr style=\"text-align: right;\">\n",
       "      <th></th>\n",
       "      <th>Income</th>\n",
       "      <th>Age</th>\n",
       "      <th>Rentals</th>\n",
       "      <th>Avg Per Visit</th>\n",
       "      <th>Gender_F</th>\n",
       "      <th>Gender_M</th>\n",
       "      <th>Genre_Action</th>\n",
       "      <th>Genre_Comedy</th>\n",
       "      <th>Genre_Drama</th>\n",
       "    </tr>\n",
       "    <tr>\n",
       "      <th>Cust ID</th>\n",
       "      <th></th>\n",
       "      <th></th>\n",
       "      <th></th>\n",
       "      <th></th>\n",
       "      <th></th>\n",
       "      <th></th>\n",
       "      <th></th>\n",
       "      <th></th>\n",
       "      <th></th>\n",
       "    </tr>\n",
       "  </thead>\n",
       "  <tbody>\n",
       "    <tr>\n",
       "      <th>1</th>\n",
       "      <td>45000</td>\n",
       "      <td>25</td>\n",
       "      <td>32</td>\n",
       "      <td>2.5</td>\n",
       "      <td>0</td>\n",
       "      <td>1</td>\n",
       "      <td>1</td>\n",
       "      <td>0</td>\n",
       "      <td>0</td>\n",
       "    </tr>\n",
       "    <tr>\n",
       "      <th>42</th>\n",
       "      <td>32000</td>\n",
       "      <td>25</td>\n",
       "      <td>26</td>\n",
       "      <td>2.2</td>\n",
       "      <td>0</td>\n",
       "      <td>1</td>\n",
       "      <td>1</td>\n",
       "      <td>0</td>\n",
       "      <td>0</td>\n",
       "    </tr>\n",
       "    <tr>\n",
       "      <th>23</th>\n",
       "      <td>2000</td>\n",
       "      <td>15</td>\n",
       "      <td>30</td>\n",
       "      <td>2.5</td>\n",
       "      <td>1</td>\n",
       "      <td>0</td>\n",
       "      <td>0</td>\n",
       "      <td>1</td>\n",
       "      <td>0</td>\n",
       "    </tr>\n",
       "    <tr>\n",
       "      <th>31</th>\n",
       "      <td>49000</td>\n",
       "      <td>56</td>\n",
       "      <td>15</td>\n",
       "      <td>3.2</td>\n",
       "      <td>1</td>\n",
       "      <td>0</td>\n",
       "      <td>0</td>\n",
       "      <td>1</td>\n",
       "      <td>0</td>\n",
       "    </tr>\n",
       "    <tr>\n",
       "      <th>16</th>\n",
       "      <td>17000</td>\n",
       "      <td>19</td>\n",
       "      <td>26</td>\n",
       "      <td>2.2</td>\n",
       "      <td>0</td>\n",
       "      <td>1</td>\n",
       "      <td>1</td>\n",
       "      <td>0</td>\n",
       "      <td>0</td>\n",
       "    </tr>\n",
       "    <tr>\n",
       "      <th>2</th>\n",
       "      <td>54000</td>\n",
       "      <td>33</td>\n",
       "      <td>12</td>\n",
       "      <td>3.4</td>\n",
       "      <td>1</td>\n",
       "      <td>0</td>\n",
       "      <td>0</td>\n",
       "      <td>0</td>\n",
       "      <td>1</td>\n",
       "    </tr>\n",
       "    <tr>\n",
       "      <th>32</th>\n",
       "      <td>47000</td>\n",
       "      <td>30</td>\n",
       "      <td>21</td>\n",
       "      <td>3.1</td>\n",
       "      <td>0</td>\n",
       "      <td>1</td>\n",
       "      <td>0</td>\n",
       "      <td>0</td>\n",
       "      <td>1</td>\n",
       "    </tr>\n",
       "    <tr>\n",
       "      <th>18</th>\n",
       "      <td>6000</td>\n",
       "      <td>16</td>\n",
       "      <td>39</td>\n",
       "      <td>1.8</td>\n",
       "      <td>1</td>\n",
       "      <td>0</td>\n",
       "      <td>1</td>\n",
       "      <td>0</td>\n",
       "      <td>0</td>\n",
       "    </tr>\n",
       "    <tr>\n",
       "      <th>27</th>\n",
       "      <td>62000</td>\n",
       "      <td>47</td>\n",
       "      <td>32</td>\n",
       "      <td>3.6</td>\n",
       "      <td>1</td>\n",
       "      <td>0</td>\n",
       "      <td>0</td>\n",
       "      <td>0</td>\n",
       "      <td>1</td>\n",
       "    </tr>\n",
       "    <tr>\n",
       "      <th>38</th>\n",
       "      <td>41000</td>\n",
       "      <td>38</td>\n",
       "      <td>20</td>\n",
       "      <td>3.3</td>\n",
       "      <td>0</td>\n",
       "      <td>1</td>\n",
       "      <td>0</td>\n",
       "      <td>0</td>\n",
       "      <td>1</td>\n",
       "    </tr>\n",
       "  </tbody>\n",
       "</table>\n",
       "</div>"
      ],
      "text/plain": [
       "         Income  Age  Rentals  Avg Per Visit  Gender_F  Gender_M  \\\n",
       "Cust ID                                                            \n",
       "1         45000   25       32            2.5         0         1   \n",
       "42        32000   25       26            2.2         0         1   \n",
       "23         2000   15       30            2.5         1         0   \n",
       "31        49000   56       15            3.2         1         0   \n",
       "16        17000   19       26            2.2         0         1   \n",
       "2         54000   33       12            3.4         1         0   \n",
       "32        47000   30       21            3.1         0         1   \n",
       "18         6000   16       39            1.8         1         0   \n",
       "27        62000   47       32            3.6         1         0   \n",
       "38        41000   38       20            3.3         0         1   \n",
       "\n",
       "         Genre_Action  Genre_Comedy  Genre_Drama  \n",
       "Cust ID                                           \n",
       "1                   1             0            0  \n",
       "42                  1             0            0  \n",
       "23                  0             1            0  \n",
       "31                  0             1            0  \n",
       "16                  1             0            0  \n",
       "2                   0             0            1  \n",
       "32                  0             0            1  \n",
       "18                  1             0            0  \n",
       "27                  0             0            1  \n",
       "38                  0             0            1  "
      ]
     },
     "execution_count": 12,
     "metadata": {},
     "output_type": "execute_result"
    }
   ],
   "source": [
    "np.set_printoptions(suppress=True, linewidth=120)\n",
    "\n",
    "vs_train.head(10)"
   ]
  },
  {
   "cell_type": "code",
   "execution_count": 13,
   "metadata": {},
   "outputs": [
    {
     "data": {
      "text/html": [
       "<div>\n",
       "<style scoped>\n",
       "    .dataframe tbody tr th:only-of-type {\n",
       "        vertical-align: middle;\n",
       "    }\n",
       "\n",
       "    .dataframe tbody tr th {\n",
       "        vertical-align: top;\n",
       "    }\n",
       "\n",
       "    .dataframe thead th {\n",
       "        text-align: right;\n",
       "    }\n",
       "</style>\n",
       "<table border=\"1\" class=\"dataframe\">\n",
       "  <thead>\n",
       "    <tr style=\"text-align: right;\">\n",
       "      <th></th>\n",
       "      <th>Income</th>\n",
       "      <th>Age</th>\n",
       "      <th>Rentals</th>\n",
       "      <th>Avg Per Visit</th>\n",
       "      <th>Gender_F</th>\n",
       "      <th>Gender_M</th>\n",
       "      <th>Genre_Action</th>\n",
       "      <th>Genre_Comedy</th>\n",
       "      <th>Genre_Drama</th>\n",
       "    </tr>\n",
       "    <tr>\n",
       "      <th>Cust ID</th>\n",
       "      <th></th>\n",
       "      <th></th>\n",
       "      <th></th>\n",
       "      <th></th>\n",
       "      <th></th>\n",
       "      <th></th>\n",
       "      <th></th>\n",
       "      <th></th>\n",
       "      <th></th>\n",
       "    </tr>\n",
       "  </thead>\n",
       "  <tbody>\n",
       "    <tr>\n",
       "      <th>29</th>\n",
       "      <td>15000</td>\n",
       "      <td>18</td>\n",
       "      <td>37</td>\n",
       "      <td>2.1</td>\n",
       "      <td>1</td>\n",
       "      <td>0</td>\n",
       "      <td>1</td>\n",
       "      <td>0</td>\n",
       "      <td>0</td>\n",
       "    </tr>\n",
       "    <tr>\n",
       "      <th>46</th>\n",
       "      <td>57000</td>\n",
       "      <td>43</td>\n",
       "      <td>9</td>\n",
       "      <td>1.1</td>\n",
       "      <td>1</td>\n",
       "      <td>0</td>\n",
       "      <td>0</td>\n",
       "      <td>0</td>\n",
       "      <td>1</td>\n",
       "    </tr>\n",
       "    <tr>\n",
       "      <th>19</th>\n",
       "      <td>24000</td>\n",
       "      <td>25</td>\n",
       "      <td>41</td>\n",
       "      <td>3.1</td>\n",
       "      <td>1</td>\n",
       "      <td>0</td>\n",
       "      <td>0</td>\n",
       "      <td>1</td>\n",
       "      <td>0</td>\n",
       "    </tr>\n",
       "    <tr>\n",
       "      <th>48</th>\n",
       "      <td>52000</td>\n",
       "      <td>47</td>\n",
       "      <td>14</td>\n",
       "      <td>1.6</td>\n",
       "      <td>1</td>\n",
       "      <td>0</td>\n",
       "      <td>0</td>\n",
       "      <td>0</td>\n",
       "      <td>1</td>\n",
       "    </tr>\n",
       "    <tr>\n",
       "      <th>9</th>\n",
       "      <td>38000</td>\n",
       "      <td>21</td>\n",
       "      <td>18</td>\n",
       "      <td>2.1</td>\n",
       "      <td>0</td>\n",
       "      <td>1</td>\n",
       "      <td>0</td>\n",
       "      <td>1</td>\n",
       "      <td>0</td>\n",
       "    </tr>\n",
       "    <tr>\n",
       "      <th>33</th>\n",
       "      <td>23000</td>\n",
       "      <td>25</td>\n",
       "      <td>28</td>\n",
       "      <td>2.7</td>\n",
       "      <td>0</td>\n",
       "      <td>1</td>\n",
       "      <td>1</td>\n",
       "      <td>0</td>\n",
       "      <td>0</td>\n",
       "    </tr>\n",
       "    <tr>\n",
       "      <th>8</th>\n",
       "      <td>74000</td>\n",
       "      <td>25</td>\n",
       "      <td>31</td>\n",
       "      <td>2.4</td>\n",
       "      <td>0</td>\n",
       "      <td>1</td>\n",
       "      <td>1</td>\n",
       "      <td>0</td>\n",
       "      <td>0</td>\n",
       "    </tr>\n",
       "    <tr>\n",
       "      <th>25</th>\n",
       "      <td>1000</td>\n",
       "      <td>16</td>\n",
       "      <td>25</td>\n",
       "      <td>1.4</td>\n",
       "      <td>0</td>\n",
       "      <td>1</td>\n",
       "      <td>0</td>\n",
       "      <td>1</td>\n",
       "      <td>0</td>\n",
       "    </tr>\n",
       "    <tr>\n",
       "      <th>6</th>\n",
       "      <td>18000</td>\n",
       "      <td>20</td>\n",
       "      <td>29</td>\n",
       "      <td>1.7</td>\n",
       "      <td>0</td>\n",
       "      <td>1</td>\n",
       "      <td>1</td>\n",
       "      <td>0</td>\n",
       "      <td>0</td>\n",
       "    </tr>\n",
       "    <tr>\n",
       "      <th>20</th>\n",
       "      <td>12000</td>\n",
       "      <td>16</td>\n",
       "      <td>23</td>\n",
       "      <td>2.2</td>\n",
       "      <td>0</td>\n",
       "      <td>1</td>\n",
       "      <td>1</td>\n",
       "      <td>0</td>\n",
       "      <td>0</td>\n",
       "    </tr>\n",
       "  </tbody>\n",
       "</table>\n",
       "</div>"
      ],
      "text/plain": [
       "         Income  Age  Rentals  Avg Per Visit  Gender_F  Gender_M  \\\n",
       "Cust ID                                                            \n",
       "29        15000   18       37            2.1         1         0   \n",
       "46        57000   43        9            1.1         1         0   \n",
       "19        24000   25       41            3.1         1         0   \n",
       "48        52000   47       14            1.6         1         0   \n",
       "9         38000   21       18            2.1         0         1   \n",
       "33        23000   25       28            2.7         0         1   \n",
       "8         74000   25       31            2.4         0         1   \n",
       "25         1000   16       25            1.4         0         1   \n",
       "6         18000   20       29            1.7         0         1   \n",
       "20        12000   16       23            2.2         0         1   \n",
       "\n",
       "         Genre_Action  Genre_Comedy  Genre_Drama  \n",
       "Cust ID                                           \n",
       "29                  1             0            0  \n",
       "46                  0             0            1  \n",
       "19                  0             1            0  \n",
       "48                  0             0            1  \n",
       "9                   0             1            0  \n",
       "33                  1             0            0  \n",
       "8                   1             0            0  \n",
       "25                  0             1            0  \n",
       "6                   1             0            0  \n",
       "20                  1             0            0  "
      ]
     },
     "execution_count": 13,
     "metadata": {},
     "output_type": "execute_result"
    }
   ],
   "source": [
    "vs_test"
   ]
  },
  {
   "cell_type": "markdown",
   "metadata": {},
   "source": [
    "#### Splitting the target attribute (\"Incidentals\") accordingly:"
   ]
  },
  {
   "cell_type": "code",
   "execution_count": 14,
   "metadata": {},
   "outputs": [],
   "source": [
    "vs_target_train = vs_target[0:int(tsize)]\n",
    "vs_target_test = vs_target[int(tsize):len(vs)]"
   ]
  },
  {
   "cell_type": "code",
   "execution_count": 15,
   "metadata": {},
   "outputs": [
    {
     "data": {
      "text/plain": [
       "Cust ID\n",
       "1     Yes\n",
       "42    Yes\n",
       "23     No\n",
       "31     No\n",
       "16    Yes\n",
       "Name: Incidentals, dtype: object"
      ]
     },
     "execution_count": 15,
     "metadata": {},
     "output_type": "execute_result"
    }
   ],
   "source": [
    "vs_target_train.head()"
   ]
  },
  {
   "cell_type": "code",
   "execution_count": 16,
   "metadata": {},
   "outputs": [
    {
     "data": {
      "text/plain": [
       "Cust ID\n",
       "29    Yes\n",
       "46     No\n",
       "19     No\n",
       "48     No\n",
       "9      No\n",
       "33     No\n",
       "8     Yes\n",
       "25    Yes\n",
       "6      No\n",
       "20    Yes\n",
       "Name: Incidentals, dtype: object"
      ]
     },
     "execution_count": 16,
     "metadata": {},
     "output_type": "execute_result"
    }
   ],
   "source": [
    "vs_target_test"
   ]
  },
  {
   "cell_type": "markdown",
   "metadata": {},
   "source": [
    "#### Next, we normalize the attributes so that everything is in [0,1] scale. We can use the normalization functions from the kNN module in Ch. 2 of the text. In this case, however, we will use the more flexible and robust scaler function from the preprocessing module of scikit-learn package."
   ]
  },
  {
   "cell_type": "code",
   "execution_count": 17,
   "metadata": {},
   "outputs": [],
   "source": [
    "from sklearn import preprocessing"
   ]
  },
  {
   "cell_type": "code",
   "execution_count": 18,
   "metadata": {},
   "outputs": [
    {
     "name": "stderr",
     "output_type": "stream",
     "text": [
      "/Users/appobs/anaconda3/lib/python3.7/site-packages/sklearn/preprocessing/data.py:334: DataConversionWarning: Data with input dtype uint8, int64, float64 were all converted to float64 by MinMaxScaler.\n",
      "  return self.partial_fit(X, y)\n"
     ]
    },
    {
     "data": {
      "text/plain": [
       "MinMaxScaler(copy=True, feature_range=(0, 1))"
      ]
     },
     "execution_count": 18,
     "metadata": {},
     "output_type": "execute_result"
    }
   ],
   "source": [
    "min_max_scaler = preprocessing.MinMaxScaler()\n",
    "min_max_scaler.fit(vs_train)"
   ]
  },
  {
   "cell_type": "code",
   "execution_count": 19,
   "metadata": {},
   "outputs": [
    {
     "name": "stderr",
     "output_type": "stream",
     "text": [
      "/Users/appobs/anaconda3/lib/python3.7/site-packages/sklearn/preprocessing/data.py:334: DataConversionWarning: Data with input dtype uint8, int64, float64 were all converted to float64 by MinMaxScaler.\n",
      "  return self.partial_fit(X, y)\n",
      "/Users/appobs/anaconda3/lib/python3.7/site-packages/sklearn/preprocessing/data.py:334: DataConversionWarning: Data with input dtype uint8, int64, float64 were all converted to float64 by MinMaxScaler.\n",
      "  return self.partial_fit(X, y)\n"
     ]
    }
   ],
   "source": [
    "vs_train_norm = min_max_scaler.fit_transform(vs_train)\n",
    "vs_test_norm = min_max_scaler.fit_transform(vs_test)"
   ]
  },
  {
   "cell_type": "markdown",
   "metadata": {},
   "source": [
    "#### Note that while these Scikit-learn functions accept Pandas dataframes as input, they return Numpy arrays (in this case the normalized versions of vs_train and vs_test)."
   ]
  },
  {
   "cell_type": "code",
   "execution_count": 20,
   "metadata": {},
   "outputs": [
    {
     "data": {
      "text/plain": [
       "array([[0.49, 0.18, 0.57, 0.37, 0.  , 1.  , 1.  , 0.  , 0.  ],\n",
       "       [0.34, 0.18, 0.41, 0.29, 0.  , 1.  , 1.  , 0.  , 0.  ],\n",
       "       [0.  , 0.  , 0.51, 0.37, 1.  , 0.  , 0.  , 1.  , 0.  ],\n",
       "       [0.54, 0.75, 0.11, 0.57, 1.  , 0.  , 0.  , 1.  , 0.  ],\n",
       "       [0.17, 0.07, 0.41, 0.29, 0.  , 1.  , 1.  , 0.  , 0.  ],\n",
       "       [0.6 , 0.33, 0.03, 0.63, 1.  , 0.  , 0.  , 0.  , 1.  ],\n",
       "       [0.52, 0.27, 0.27, 0.54, 0.  , 1.  , 0.  , 0.  , 1.  ],\n",
       "       [0.05, 0.02, 0.76, 0.17, 1.  , 0.  , 1.  , 0.  , 0.  ],\n",
       "       [0.69, 0.58, 0.57, 0.69, 1.  , 0.  , 0.  , 0.  , 1.  ],\n",
       "       [0.45, 0.42, 0.24, 0.6 , 0.  , 1.  , 0.  , 0.  , 1.  ]])"
      ]
     },
     "execution_count": 20,
     "metadata": {},
     "output_type": "execute_result"
    }
   ],
   "source": [
    "np.set_printoptions(precision=2, linewidth=100)\n",
    "vs_train_norm[:10]\n"
   ]
  },
  {
   "cell_type": "markdown",
   "metadata": {},
   "source": [
    "#### For consitency, we'll also convert the training and test target labels into Numpy arrays."
   ]
  },
  {
   "cell_type": "code",
   "execution_count": 21,
   "metadata": {},
   "outputs": [],
   "source": [
    "vs_target_train = np.array(vs_target_train)\n",
    "vs_target_test = np.array(vs_target_test)"
   ]
  },
  {
   "cell_type": "code",
   "execution_count": 22,
   "metadata": {},
   "outputs": [
    {
     "name": "stdout",
     "output_type": "stream",
     "text": [
      "['Yes' 'Yes' 'No' 'No' 'Yes' 'No' 'Yes' 'Yes' 'No' 'Yes' 'Yes' 'Yes' 'No' 'Yes' 'No' 'Yes' 'No'\n",
      " 'Yes' 'No' 'Yes' 'No' 'Yes' 'Yes' 'No' 'No' 'Yes' 'No' 'Yes' 'No' 'Yes' 'Yes' 'No' 'No' 'Yes'\n",
      " 'Yes' 'Yes' 'No' 'No' 'No' 'Yes']\n",
      "\n",
      "\n",
      "['Yes' 'No' 'No' 'No' 'No' 'No' 'Yes' 'Yes' 'No' 'Yes']\n"
     ]
    }
   ],
   "source": [
    "print (vs_target_train)\n",
    "print (\"\\n\")\n",
    "print (vs_target_test)"
   ]
  },
  {
   "cell_type": "markdown",
   "metadata": {},
   "source": [
    "#### The following function illustrates how we can perform a k-nearest-neighbor search. The \"measure\" argument allows us to use either Euclidean distance or (the inverse of) Cosine similarity as the distance function:"
   ]
  },
  {
   "cell_type": "code",
   "execution_count": 23,
   "metadata": {},
   "outputs": [],
   "source": [
    "def knn_search(x, D, K, measure):\n",
    "    \"\"\" find K nearest neighbors of an instance x among the instances in D \"\"\"\n",
    "    if measure == 0:\n",
    "        # euclidean distances from the other points\n",
    "        dists = np.sqrt(((D - x)**2).sum(axis=1))\n",
    "    elif measure == 1:\n",
    "        # first find the vector norm for each instance in D as wel as the norm for vector x\n",
    "        D_norm = np.array([np.linalg.norm(D[i]) for i in range(len(D))])\n",
    "        x_norm = np.linalg.norm(x)\n",
    "        # Compute Cosine: divide the dot product o x and each instance in D by the product of the two norms\n",
    "        sims = np.dot(D,x)/(D_norm * x_norm)\n",
    "        # The distance measure will be the inverse of Cosine similarity\n",
    "        dists = 1 - sims\n",
    "    idx = np.argsort(dists) # sorting\n",
    "    # return the indexes of K nearest neighbors\n",
    "    return idx[:K], dists"
   ]
  },
  {
   "cell_type": "code",
   "execution_count": 24,
   "metadata": {},
   "outputs": [],
   "source": [
    "# Let's use vs_test_norm[0] as a test instance x and find its K nearest neighbors\n",
    "neigh_idx, distances = knn_search(vs_test_norm[0], vs_train_norm, 5, 0)"
   ]
  },
  {
   "cell_type": "code",
   "execution_count": 25,
   "metadata": {},
   "outputs": [
    {
     "data": {
      "text/html": [
       "<div>\n",
       "<style scoped>\n",
       "    .dataframe tbody tr th:only-of-type {\n",
       "        vertical-align: middle;\n",
       "    }\n",
       "\n",
       "    .dataframe tbody tr th {\n",
       "        vertical-align: top;\n",
       "    }\n",
       "\n",
       "    .dataframe thead th {\n",
       "        text-align: right;\n",
       "    }\n",
       "</style>\n",
       "<table border=\"1\" class=\"dataframe\">\n",
       "  <thead>\n",
       "    <tr style=\"text-align: right;\">\n",
       "      <th></th>\n",
       "      <th>Income</th>\n",
       "      <th>Age</th>\n",
       "      <th>Rentals</th>\n",
       "      <th>Avg Per Visit</th>\n",
       "      <th>Gender_F</th>\n",
       "      <th>Gender_M</th>\n",
       "      <th>Genre_Action</th>\n",
       "      <th>Genre_Comedy</th>\n",
       "      <th>Genre_Drama</th>\n",
       "    </tr>\n",
       "    <tr>\n",
       "      <th>Cust ID</th>\n",
       "      <th></th>\n",
       "      <th></th>\n",
       "      <th></th>\n",
       "      <th></th>\n",
       "      <th></th>\n",
       "      <th></th>\n",
       "      <th></th>\n",
       "      <th></th>\n",
       "      <th></th>\n",
       "    </tr>\n",
       "  </thead>\n",
       "  <tbody>\n",
       "    <tr>\n",
       "      <th>29</th>\n",
       "      <td>15000</td>\n",
       "      <td>18</td>\n",
       "      <td>37</td>\n",
       "      <td>2.1</td>\n",
       "      <td>1</td>\n",
       "      <td>0</td>\n",
       "      <td>1</td>\n",
       "      <td>0</td>\n",
       "      <td>0</td>\n",
       "    </tr>\n",
       "  </tbody>\n",
       "</table>\n",
       "</div>"
      ],
      "text/plain": [
       "         Income  Age  Rentals  Avg Per Visit  Gender_F  Gender_M  \\\n",
       "Cust ID                                                            \n",
       "29        15000   18       37            2.1         1         0   \n",
       "\n",
       "         Genre_Action  Genre_Comedy  Genre_Drama  \n",
       "Cust ID                                           \n",
       "29                  1             0            0  "
      ]
     },
     "execution_count": 25,
     "metadata": {},
     "output_type": "execute_result"
    }
   ],
   "source": [
    "vs_test.head(1)"
   ]
  },
  {
   "cell_type": "code",
   "execution_count": 26,
   "metadata": {},
   "outputs": [
    {
     "name": "stdout",
     "output_type": "stream",
     "text": [
      "[10  7 29 35 34]\n",
      "\n",
      "\n"
     ]
    },
    {
     "data": {
      "text/html": [
       "<div>\n",
       "<style scoped>\n",
       "    .dataframe tbody tr th:only-of-type {\n",
       "        vertical-align: middle;\n",
       "    }\n",
       "\n",
       "    .dataframe tbody tr th {\n",
       "        vertical-align: top;\n",
       "    }\n",
       "\n",
       "    .dataframe thead th {\n",
       "        text-align: right;\n",
       "    }\n",
       "</style>\n",
       "<table border=\"1\" class=\"dataframe\">\n",
       "  <thead>\n",
       "    <tr style=\"text-align: right;\">\n",
       "      <th></th>\n",
       "      <th>Income</th>\n",
       "      <th>Age</th>\n",
       "      <th>Rentals</th>\n",
       "      <th>Avg Per Visit</th>\n",
       "      <th>Gender_F</th>\n",
       "      <th>Gender_M</th>\n",
       "      <th>Genre_Action</th>\n",
       "      <th>Genre_Comedy</th>\n",
       "      <th>Genre_Drama</th>\n",
       "    </tr>\n",
       "    <tr>\n",
       "      <th>Cust ID</th>\n",
       "      <th></th>\n",
       "      <th></th>\n",
       "      <th></th>\n",
       "      <th></th>\n",
       "      <th></th>\n",
       "      <th></th>\n",
       "      <th></th>\n",
       "      <th></th>\n",
       "      <th></th>\n",
       "    </tr>\n",
       "  </thead>\n",
       "  <tbody>\n",
       "    <tr>\n",
       "      <th>12</th>\n",
       "      <td>26000</td>\n",
       "      <td>22</td>\n",
       "      <td>32</td>\n",
       "      <td>2.9</td>\n",
       "      <td>1</td>\n",
       "      <td>0</td>\n",
       "      <td>1</td>\n",
       "      <td>0</td>\n",
       "      <td>0</td>\n",
       "    </tr>\n",
       "    <tr>\n",
       "      <th>18</th>\n",
       "      <td>6000</td>\n",
       "      <td>16</td>\n",
       "      <td>39</td>\n",
       "      <td>1.8</td>\n",
       "      <td>1</td>\n",
       "      <td>0</td>\n",
       "      <td>1</td>\n",
       "      <td>0</td>\n",
       "      <td>0</td>\n",
       "    </tr>\n",
       "    <tr>\n",
       "      <th>26</th>\n",
       "      <td>56000</td>\n",
       "      <td>35</td>\n",
       "      <td>40</td>\n",
       "      <td>2.6</td>\n",
       "      <td>1</td>\n",
       "      <td>0</td>\n",
       "      <td>1</td>\n",
       "      <td>0</td>\n",
       "      <td>0</td>\n",
       "    </tr>\n",
       "    <tr>\n",
       "      <th>34</th>\n",
       "      <td>29000</td>\n",
       "      <td>32</td>\n",
       "      <td>19</td>\n",
       "      <td>2.9</td>\n",
       "      <td>1</td>\n",
       "      <td>0</td>\n",
       "      <td>1</td>\n",
       "      <td>0</td>\n",
       "      <td>0</td>\n",
       "    </tr>\n",
       "    <tr>\n",
       "      <th>49</th>\n",
       "      <td>31000</td>\n",
       "      <td>25</td>\n",
       "      <td>42</td>\n",
       "      <td>3.4</td>\n",
       "      <td>0</td>\n",
       "      <td>1</td>\n",
       "      <td>1</td>\n",
       "      <td>0</td>\n",
       "      <td>0</td>\n",
       "    </tr>\n",
       "  </tbody>\n",
       "</table>\n",
       "</div>"
      ],
      "text/plain": [
       "         Income  Age  Rentals  Avg Per Visit  Gender_F  Gender_M  \\\n",
       "Cust ID                                                            \n",
       "12        26000   22       32            2.9         1         0   \n",
       "18         6000   16       39            1.8         1         0   \n",
       "26        56000   35       40            2.6         1         0   \n",
       "34        29000   32       19            2.9         1         0   \n",
       "49        31000   25       42            3.4         0         1   \n",
       "\n",
       "         Genre_Action  Genre_Comedy  Genre_Drama  \n",
       "Cust ID                                           \n",
       "12                  1             0            0  \n",
       "18                  1             0            0  \n",
       "26                  1             0            0  \n",
       "34                  1             0            0  \n",
       "49                  1             0            0  "
      ]
     },
     "execution_count": 26,
     "metadata": {},
     "output_type": "execute_result"
    }
   ],
   "source": [
    "print (neigh_idx)\n",
    "print (\"\\n\")\n",
    "vs_train.iloc[neigh_idx]"
   ]
  },
  {
   "cell_type": "code",
   "execution_count": 27,
   "metadata": {},
   "outputs": [
    {
     "name": "stdout",
     "output_type": "stream",
     "text": [
      "[0.33 0.38 0.54 0.71 1.43]\n"
     ]
    }
   ],
   "source": [
    "print (distances[neigh_idx])"
   ]
  },
  {
   "cell_type": "code",
   "execution_count": 28,
   "metadata": {},
   "outputs": [
    {
     "name": "stdout",
     "output_type": "stream",
     "text": [
      "['Yes' 'Yes' 'Yes' 'Yes' 'Yes']\n"
     ]
    }
   ],
   "source": [
    "neigh_labels = vs_target_train[neigh_idx]\n",
    "print (neigh_labels)"
   ]
  },
  {
   "cell_type": "markdown",
   "metadata": {},
   "source": [
    "#### Now that we know the nearest neighbors, we need to find the majority class label among them. The majority class would be the class assgined to the new instance x."
   ]
  },
  {
   "cell_type": "code",
   "execution_count": 29,
   "metadata": {},
   "outputs": [
    {
     "name": "stdout",
     "output_type": "stream",
     "text": [
      "Counter({'Yes': 5})\n"
     ]
    }
   ],
   "source": [
    "from collections import Counter\n",
    "print (Counter(neigh_labels))"
   ]
  },
  {
   "cell_type": "code",
   "execution_count": 30,
   "metadata": {},
   "outputs": [
    {
     "data": {
      "text/plain": [
       "[('Yes', 5)]"
      ]
     },
     "execution_count": 30,
     "metadata": {},
     "output_type": "execute_result"
    }
   ],
   "source": [
    "Counter(neigh_labels).most_common(1)"
   ]
  },
  {
   "cell_type": "markdown",
   "metadata": {},
   "source": [
    "#### Next, we'll use the Knn module from Chapter 2 of Machine Learning in Action. Before importing the whole module, let's illustrate what the code does by stepping through it with some specific input values."
   ]
  },
  {
   "cell_type": "code",
   "execution_count": 31,
   "metadata": {},
   "outputs": [
    {
     "name": "stdout",
     "output_type": "stream",
     "text": [
      "40\n"
     ]
    }
   ],
   "source": [
    "dataSetSize = vs_train_norm.shape[0]\n",
    "print (dataSetSize)"
   ]
  },
  {
   "cell_type": "code",
   "execution_count": 32,
   "metadata": {},
   "outputs": [
    {
     "name": "stdout",
     "output_type": "stream",
     "text": [
      "[[-0.3  -0.12  0.31  0.13  1.   -1.    0.    0.    0.  ]\n",
      " [-0.15 -0.12  0.47  0.21  1.   -1.    0.    0.    0.  ]\n",
      " [ 0.19  0.06  0.36  0.13  0.    0.    1.   -1.    0.  ]\n",
      " [-0.35 -0.68  0.77 -0.07  0.    0.    1.   -1.    0.  ]\n",
      " [ 0.02 -0.01  0.47  0.21  1.   -1.    0.    0.    0.  ]]\n"
     ]
    }
   ],
   "source": [
    "inX = vs_test_norm[0]   # We'll use the first instance in the test data for this example\n",
    "diffMat = np.tile(inX, (dataSetSize,1)) - vs_train_norm  # Create dataSetSize copies of inX, as rows of a 2D matrix\n",
    "                                                         # Compute a matrix of differences\n",
    "print (diffMat[:5,:])"
   ]
  },
  {
   "cell_type": "code",
   "execution_count": 33,
   "metadata": {},
   "outputs": [
    {
     "name": "stdout",
     "output_type": "stream",
     "text": [
      "[1.49 1.52 1.48 1.78 1.51 1.72 2.13 0.38 1.63 2.14 0.33 2.11 1.45 2.1  1.71 1.54 1.65 1.66 1.68\n",
      " 1.94 2.11 1.63 1.72 1.8  2.24 2.08 2.34 1.67 1.48 0.54 1.48 1.7  1.47 2.15 1.43 0.71 1.53 2.42\n",
      " 2.11 1.46]\n"
     ]
    }
   ],
   "source": [
    "sqDiffMat = diffMat**2  # The matrix of squared differences\n",
    "sqDistances = sqDiffMat.sum(axis=1)  # 1D array of the sum of squared differences (one element for each training instance)\n",
    "distances = sqDistances**0.5  # and finally the matrix of Euclidean distances to inX\n",
    "print (distances)"
   ]
  },
  {
   "cell_type": "code",
   "execution_count": 34,
   "metadata": {},
   "outputs": [
    {
     "name": "stdout",
     "output_type": "stream",
     "text": [
      "[10  7 29 35 34 12 39 32 30  2 28  0  4  1 36 15  8 21 16 17 27 18 31 14 22  5  3 23 19 25 13 20 11\n",
      " 38  6  9 33 24 26 37]\n"
     ]
    }
   ],
   "source": [
    "sortedDistIndicies = distances.argsort() # the indices of the training instances in increasing order of distance to inX\n",
    "print (sortedDistIndicies)"
   ]
  },
  {
   "cell_type": "markdown",
   "metadata": {},
   "source": [
    "#### To see how the test instance should be classified, we need to find the majority class among the neighbors (here we do not use distance weighting; only a simply voting approach)"
   ]
  },
  {
   "cell_type": "code",
   "execution_count": 35,
   "metadata": {},
   "outputs": [
    {
     "name": "stdout",
     "output_type": "stream",
     "text": [
      "10 Yes 1\n",
      "7 Yes 2\n",
      "29 Yes 3\n",
      "35 Yes 4\n",
      "34 Yes 5\n"
     ]
    }
   ],
   "source": [
    "classCount={}\n",
    "k = 5  # We'll use the top 10 neighbors\n",
    "for i in range(k):\n",
    "   voteIlabel = vs_target_train[sortedDistIndicies[i]]\n",
    "   classCount[voteIlabel] = classCount.get(voteIlabel,0) + 1  # add to the count of the label or retun 1 for first occurrence\n",
    "   print (sortedDistIndicies[i], voteIlabel, classCount[voteIlabel])\n"
   ]
  },
  {
   "cell_type": "markdown",
   "metadata": {},
   "source": [
    "#### Now, let's find the predicted class for the test instance."
   ]
  },
  {
   "cell_type": "code",
   "execution_count": 36,
   "metadata": {},
   "outputs": [
    {
     "name": "stdout",
     "output_type": "stream",
     "text": [
      "[('Yes', 5)]\n",
      "Yes\n"
     ]
    }
   ],
   "source": [
    "import operator\n",
    "# Create a dictionary for the class labels with cumulative occurrences across the neighbors as values\n",
    "# Dictionary will be ordered in decreasing order of the lable values (so the majority class label will\n",
    "# be the first dictonary element)\n",
    "sortedClassCount = sorted(classCount.items(), key=operator.itemgetter(1), reverse=True)\n",
    "print (sortedClassCount)\n",
    "print (sortedClassCount[0][0])"
   ]
  },
  {
   "cell_type": "markdown",
   "metadata": {},
   "source": [
    "#### A better way to find the majority class given a list of class labels from neighbors:"
   ]
  },
  {
   "cell_type": "code",
   "execution_count": 37,
   "metadata": {},
   "outputs": [
    {
     "name": "stdout",
     "output_type": "stream",
     "text": [
      "['Yes' 'Yes' 'Yes' 'Yes' 'Yes']\n",
      "[('Yes', 5)]\n",
      "Class label for the classified istance:  Yes\n"
     ]
    }
   ],
   "source": [
    "from collections import Counter\n",
    "\n",
    "k = 5  # We'll use the top 5 neighbors\n",
    "vote = vs_target_train[sortedDistIndicies[0:k]]\n",
    "maj_class = Counter(vote).most_common(1)\n",
    "\n",
    "print (vote)\n",
    "\n",
    "print (maj_class)\n",
    "\n",
    "print (\"Class label for the classified istance: \", maj_class[0][0])"
   ]
  },
  {
   "cell_type": "markdown",
   "metadata": {},
   "source": [
    "#### Let's know import the whole __[kNN module from Chapter 2 of MLA book](http://facweb.cs.depaul.edu/mobasher/classes/CSC478/data/kNN.py.txt)__ and use as part of a more robust evaluation process. We will step through all test instances, use our Knn classifier to predict a class label for each instance, and in each case we compare the predicted label to the actual value from the target test labels."
   ]
  },
  {
   "cell_type": "code",
   "execution_count": 38,
   "metadata": {},
   "outputs": [],
   "source": [
    "import kNN"
   ]
  },
  {
   "cell_type": "code",
   "execution_count": 39,
   "metadata": {},
   "outputs": [
    {
     "name": "stdout",
     "output_type": "stream",
     "text": [
      "10\n"
     ]
    }
   ],
   "source": [
    "numTestVecs = len(vs_target_test)\n",
    "print (numTestVecs)"
   ]
  },
  {
   "cell_type": "code",
   "execution_count": 40,
   "metadata": {},
   "outputs": [
    {
     "name": "stdout",
     "output_type": "stream",
     "text": [
      "the classifier came back with: Yes, the real answer is: Yes\n",
      "the classifier came back with: No, the real answer is: No\n",
      "the classifier came back with: No, the real answer is: No\n",
      "the classifier came back with: No, the real answer is: No\n",
      "the classifier came back with: No, the real answer is: No\n",
      "the classifier came back with: Yes, the real answer is: No\n",
      "the classifier came back with: Yes, the real answer is: Yes\n",
      "the classifier came back with: No, the real answer is: Yes\n",
      "the classifier came back with: Yes, the real answer is: No\n",
      "the classifier came back with: Yes, the real answer is: Yes\n",
      "the total error rate is: 0.300000\n"
     ]
    }
   ],
   "source": [
    "errorCount = 0.0\n",
    "for i in range(numTestVecs):\n",
    "    # classify0 function uses Euclidean distance to find k nearest neighbors\n",
    "    classifierResult = kNN.classify0(vs_test_norm[i,:], vs_train_norm, vs_target_train, 3)\n",
    "    print (\"the classifier came back with: %s, the real answer is: %s\" % (classifierResult, vs_target_test[i]))\n",
    "    if (classifierResult != vs_target_test[i]): errorCount += 1.0\n",
    "        \n",
    "print (\"the total error rate is: %f\" % (errorCount/float(numTestVecs)))"
   ]
  },
  {
   "cell_type": "markdown",
   "metadata": {},
   "source": [
    "#### I have added a new classifier function to the kNN module that uses Cosine similarity instead of Euclidean distance:"
   ]
  },
  {
   "cell_type": "code",
   "execution_count": 41,
   "metadata": {},
   "outputs": [
    {
     "data": {
      "text/plain": [
       "<module 'kNN' from '/Users/appobs/Desktop/hw/478/week3/kNN.py'>"
      ]
     },
     "execution_count": 41,
     "metadata": {},
     "output_type": "execute_result"
    }
   ],
   "source": [
    "from importlib import reload\n",
    "reload(kNN)"
   ]
  },
  {
   "cell_type": "code",
   "execution_count": 42,
   "metadata": {},
   "outputs": [
    {
     "name": "stdout",
     "output_type": "stream",
     "text": [
      "the classifier came back with: Yes, the real answer is: Yes\n",
      "the classifier came back with: No, the real answer is: No\n",
      "the classifier came back with: No, the real answer is: No\n",
      "the classifier came back with: No, the real answer is: No\n",
      "the classifier came back with: No, the real answer is: No\n",
      "the classifier came back with: Yes, the real answer is: No\n",
      "the classifier came back with: Yes, the real answer is: Yes\n",
      "the classifier came back with: No, the real answer is: Yes\n",
      "the classifier came back with: Yes, the real answer is: No\n",
      "the classifier came back with: Yes, the real answer is: Yes\n",
      "the total error rate is: 0.300000\n"
     ]
    }
   ],
   "source": [
    "errorCount = 0.0\n",
    "for i in range(numTestVecs):\n",
    "    # classify1 function uses inverse of Cosine similarity to find k nearest neighbors\n",
    "    classifierResult2 = kNN.classify1(vs_test_norm[i,:], vs_train_norm, vs_target_train, 3)\n",
    "    print (\"the classifier came back with: %s, the real answer is: %s\" % (classifierResult2, vs_target_test[i]))\n",
    "    if (classifierResult2 != vs_target_test[i]): errorCount += 1.0\n",
    "print (\"the total error rate is: %f\" % (errorCount/float(numTestVecs)))"
   ]
  },
  {
   "cell_type": "code",
   "execution_count": null,
   "metadata": {},
   "outputs": [],
   "source": []
  },
  {
   "cell_type": "code",
   "execution_count": null,
   "metadata": {},
   "outputs": [],
   "source": []
  }
 ],
 "metadata": {
  "kernelspec": {
   "display_name": "Python 3",
   "language": "python",
   "name": "python3"
  },
  "language_info": {
   "codemirror_mode": {
    "name": "ipython",
    "version": 3
   },
   "file_extension": ".py",
   "mimetype": "text/x-python",
   "name": "python",
   "nbconvert_exporter": "python",
   "pygments_lexer": "ipython3",
   "version": "3.7.3"
  }
 },
 "nbformat": 4,
 "nbformat_minor": 1
}
