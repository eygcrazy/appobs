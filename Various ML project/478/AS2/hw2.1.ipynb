{
 "cells": [
  {
   "cell_type": "code",
   "execution_count": 1,
   "metadata": {},
   "outputs": [],
   "source": [
    "import numpy as np\n",
    "import pandas as pd\n",
    "import matplotlib.pyplot as plt\n",
    "%matplotlib inline"
   ]
  },
  {
   "cell_type": "code",
   "execution_count": 2,
   "metadata": {},
   "outputs": [
    {
     "data": {
      "text/html": [
       "<div>\n",
       "<style scoped>\n",
       "    .dataframe tbody tr th:only-of-type {\n",
       "        vertical-align: middle;\n",
       "    }\n",
       "\n",
       "    .dataframe tbody tr th {\n",
       "        vertical-align: top;\n",
       "    }\n",
       "\n",
       "    .dataframe thead th {\n",
       "        text-align: right;\n",
       "    }\n",
       "</style>\n",
       "<table border=\"1\" class=\"dataframe\">\n",
       "  <thead>\n",
       "    <tr style=\"text-align: right;\">\n",
       "      <th></th>\n",
       "      <th>0</th>\n",
       "      <th>1</th>\n",
       "      <th>2</th>\n",
       "      <th>3</th>\n",
       "      <th>4</th>\n",
       "      <th>5</th>\n",
       "      <th>6</th>\n",
       "      <th>7</th>\n",
       "      <th>8</th>\n",
       "      <th>9</th>\n",
       "      <th>...</th>\n",
       "      <th>5490</th>\n",
       "      <th>5491</th>\n",
       "      <th>5492</th>\n",
       "      <th>5493</th>\n",
       "      <th>5494</th>\n",
       "      <th>5495</th>\n",
       "      <th>5496</th>\n",
       "      <th>5497</th>\n",
       "      <th>5498</th>\n",
       "      <th>5499</th>\n",
       "    </tr>\n",
       "  </thead>\n",
       "  <tbody>\n",
       "    <tr>\n",
       "      <th>0</th>\n",
       "      <td>0.0</td>\n",
       "      <td>0.0</td>\n",
       "      <td>0.0</td>\n",
       "      <td>1.0</td>\n",
       "      <td>0.0</td>\n",
       "      <td>0.0</td>\n",
       "      <td>0.0</td>\n",
       "      <td>0.0</td>\n",
       "      <td>0.0</td>\n",
       "      <td>1.0</td>\n",
       "      <td>...</td>\n",
       "      <td>0.0</td>\n",
       "      <td>0.0</td>\n",
       "      <td>0.0</td>\n",
       "      <td>0.0</td>\n",
       "      <td>0.0</td>\n",
       "      <td>0.0</td>\n",
       "      <td>0.0</td>\n",
       "      <td>0.0</td>\n",
       "      <td>0.0</td>\n",
       "      <td>0.0</td>\n",
       "    </tr>\n",
       "    <tr>\n",
       "      <th>1</th>\n",
       "      <td>0.0</td>\n",
       "      <td>0.0</td>\n",
       "      <td>0.0</td>\n",
       "      <td>1.0</td>\n",
       "      <td>0.0</td>\n",
       "      <td>0.0</td>\n",
       "      <td>0.0</td>\n",
       "      <td>0.0</td>\n",
       "      <td>0.0</td>\n",
       "      <td>0.0</td>\n",
       "      <td>...</td>\n",
       "      <td>0.0</td>\n",
       "      <td>0.0</td>\n",
       "      <td>0.0</td>\n",
       "      <td>0.0</td>\n",
       "      <td>0.0</td>\n",
       "      <td>0.0</td>\n",
       "      <td>0.0</td>\n",
       "      <td>0.0</td>\n",
       "      <td>0.0</td>\n",
       "      <td>0.0</td>\n",
       "    </tr>\n",
       "    <tr>\n",
       "      <th>2</th>\n",
       "      <td>1.0</td>\n",
       "      <td>0.0</td>\n",
       "      <td>0.0</td>\n",
       "      <td>1.0</td>\n",
       "      <td>0.0</td>\n",
       "      <td>0.0</td>\n",
       "      <td>0.0</td>\n",
       "      <td>0.0</td>\n",
       "      <td>0.0</td>\n",
       "      <td>0.0</td>\n",
       "      <td>...</td>\n",
       "      <td>0.0</td>\n",
       "      <td>0.0</td>\n",
       "      <td>0.0</td>\n",
       "      <td>0.0</td>\n",
       "      <td>0.0</td>\n",
       "      <td>0.0</td>\n",
       "      <td>0.0</td>\n",
       "      <td>0.0</td>\n",
       "      <td>0.0</td>\n",
       "      <td>0.0</td>\n",
       "    </tr>\n",
       "    <tr>\n",
       "      <th>3</th>\n",
       "      <td>0.0</td>\n",
       "      <td>0.0</td>\n",
       "      <td>0.0</td>\n",
       "      <td>1.0</td>\n",
       "      <td>0.0</td>\n",
       "      <td>0.0</td>\n",
       "      <td>0.0</td>\n",
       "      <td>0.0</td>\n",
       "      <td>0.0</td>\n",
       "      <td>0.0</td>\n",
       "      <td>...</td>\n",
       "      <td>0.0</td>\n",
       "      <td>0.0</td>\n",
       "      <td>0.0</td>\n",
       "      <td>0.0</td>\n",
       "      <td>0.0</td>\n",
       "      <td>0.0</td>\n",
       "      <td>0.0</td>\n",
       "      <td>0.0</td>\n",
       "      <td>0.0</td>\n",
       "      <td>0.0</td>\n",
       "    </tr>\n",
       "    <tr>\n",
       "      <th>4</th>\n",
       "      <td>0.0</td>\n",
       "      <td>0.0</td>\n",
       "      <td>0.0</td>\n",
       "      <td>1.0</td>\n",
       "      <td>0.0</td>\n",
       "      <td>0.0</td>\n",
       "      <td>0.0</td>\n",
       "      <td>0.0</td>\n",
       "      <td>0.0</td>\n",
       "      <td>1.0</td>\n",
       "      <td>...</td>\n",
       "      <td>0.0</td>\n",
       "      <td>0.0</td>\n",
       "      <td>0.0</td>\n",
       "      <td>0.0</td>\n",
       "      <td>0.0</td>\n",
       "      <td>0.0</td>\n",
       "      <td>0.0</td>\n",
       "      <td>0.0</td>\n",
       "      <td>0.0</td>\n",
       "      <td>0.0</td>\n",
       "    </tr>\n",
       "  </tbody>\n",
       "</table>\n",
       "<p>5 rows × 5500 columns</p>\n",
       "</div>"
      ],
      "text/plain": [
       "   0     1     2     3     4     5     6     7     8     9     ...  5490  \\\n",
       "0   0.0   0.0   0.0   1.0   0.0   0.0   0.0   0.0   0.0   1.0  ...   0.0   \n",
       "1   0.0   0.0   0.0   1.0   0.0   0.0   0.0   0.0   0.0   0.0  ...   0.0   \n",
       "2   1.0   0.0   0.0   1.0   0.0   0.0   0.0   0.0   0.0   0.0  ...   0.0   \n",
       "3   0.0   0.0   0.0   1.0   0.0   0.0   0.0   0.0   0.0   0.0  ...   0.0   \n",
       "4   0.0   0.0   0.0   1.0   0.0   0.0   0.0   0.0   0.0   1.0  ...   0.0   \n",
       "\n",
       "   5491  5492  5493  5494  5495  5496  5497  5498  5499  \n",
       "0   0.0   0.0   0.0   0.0   0.0   0.0   0.0   0.0   0.0  \n",
       "1   0.0   0.0   0.0   0.0   0.0   0.0   0.0   0.0   0.0  \n",
       "2   0.0   0.0   0.0   0.0   0.0   0.0   0.0   0.0   0.0  \n",
       "3   0.0   0.0   0.0   0.0   0.0   0.0   0.0   0.0   0.0  \n",
       "4   0.0   0.0   0.0   0.0   0.0   0.0   0.0   0.0   0.0  \n",
       "\n",
       "[5 rows x 5500 columns]"
      ]
     },
     "execution_count": 2,
     "metadata": {},
     "output_type": "execute_result"
    }
   ],
   "source": [
    "train=pd.read_csv('/Users/appobs/Desktop/hw/478/week4/hw2/newsgroups/trainMatrixModified.txt',header=None,sep='\\t')\n",
    "tr_lb=pd.read_csv('/Users/appobs/Desktop/hw/478/week4/hw2/newsgroups/trainClasses.txt',header=None,sep='\\t')\n",
    "test=pd.read_csv('/Users/appobs/Desktop/hw/478/week4/hw2/newsgroups/testMatrixModified.txt',header=None,sep='\\t')\n",
    "te_lb=pd.read_csv('/Users/appobs/Desktop/hw/478/week4/hw2/newsgroups/testClasses.txt',header=None,sep='\\t')\n",
    "\n",
    "train.T.head()\n",
    "test.T.head()"
   ]
  },
  {
   "cell_type": "code",
   "execution_count": 3,
   "metadata": {},
   "outputs": [],
   "source": [
    "def knn_classifier(tr_dt,tr_lb,object,k,measure):\n",
    "    #training and testing datasets are transposed\n",
    "    tr_dt=tr_dt.T\n",
    "    tr_dt=np.array(tr_dt)\n",
    "    object=object.T\n",
    "    object=np.array(object)\n",
    "    \n",
    "    if measure == 0: #euclidean distances\n",
    "        dists = np.sqrt(((tr_dt - object)**2).sum(axis=1))\n",
    "    \n",
    "    elif measure ==1: #cosine similarity\n",
    "        D_norm = np.array([np.linalg.norm(tr_dt[i]) for i in range(len(tr_dt))])\n",
    "        x_norm = np.linalg.norm(object)\n",
    "        sims = np.dot(tr_dt,object)/(D_norm * x_norm)\n",
    "        dists = 1 - sims\n",
    "        \n",
    "    idx = np.argsort(dists)[:k]\n",
    "    label=[]\n",
    "    #voting for class\n",
    "    for i in idx:   \n",
    "        label.append(tr_lb[1][i])\n",
    "    if label.count(1)>label.count(0):\n",
    "        clas =1\n",
    "    elif label.count(1)<label.count(0):\n",
    "        clas =0\n",
    "    elif label.count(1)==label.count(0):\n",
    "        clas=label[0]\n",
    "    return clas, sorted(dists)[:k]  "
   ]
  },
  {
   "cell_type": "code",
   "execution_count": 4,
   "metadata": {},
   "outputs": [],
   "source": [
    "def accuracy_knn(test,te_lb,train,tr_lb,k,measure):\n",
    "    te_lb=te_lb[1]\n",
    "    match=0\n",
    "    for i in range(200):\n",
    "        tag,array = knn_classifier(train,tr_lb,test[i],k,measure)\n",
    "        if tag == te_lb[i]:\n",
    "            match += 1\n",
    "    accuracy= match/200\n",
    "    return accuracy"
   ]
  },
  {
   "cell_type": "code",
   "execution_count": 5,
   "metadata": {},
   "outputs": [
    {
     "name": "stdout",
     "output_type": "stream",
     "text": [
      "k= 1: accuracy= 0.78\n",
      "k= 2: accuracy= 0.78\n",
      "k= 3: accuracy= 0.81\n",
      "k= 4: accuracy= 0.81\n"
     ]
    }
   ],
   "source": [
    "#euclidean distances\n",
    "for i in range(1,5):\n",
    "    a=accuracy_knn(test,te_lb,train,tr_lb,i,0)\n",
    "    print('k= {}: accuracy= {}'.format(i,a))    "
   ]
  },
  {
   "cell_type": "code",
   "execution_count": 6,
   "metadata": {},
   "outputs": [
    {
     "name": "stdout",
     "output_type": "stream",
     "text": [
      "k= 1: accuracy= 0.985\n",
      "k= 2: accuracy= 0.985\n",
      "k= 3: accuracy= 0.97\n",
      "k= 4: accuracy= 0.985\n"
     ]
    }
   ],
   "source": [
    "#cosine similarity\n",
    "for i in range(1,5):\n",
    "    a=accuracy_knn(test,te_lb,train,tr_lb,i,1)\n",
    "    print('k= {}: accuracy= {}'.format(i,a))    "
   ]
  },
  {
   "cell_type": "code",
   "execution_count": 7,
   "metadata": {},
   "outputs": [],
   "source": [
    "#### Convert term weights to TFxIDF weights\n",
    "\n",
    "#Find doucment frequencies for each term\n",
    "DF = np.array([(train!=0).sum(0)])\n",
    "NDocs = len(train[0])\n",
    "# Create a matrix with all entries = NDocs\n",
    "NMatrix=np.ones(np.shape(train), dtype=float)*NDocs\n",
    "# Convert each entry into IDF values\n",
    "# Note that IDF is only a function of the term, so all rows will be identical.\n",
    "DivM = np.divide(NMatrix, DF)\n",
    "IDF = np.log2(DivM)\n",
    "# Finally compute the TFxIDF values for each document-term entry\n",
    "DT_tfidf = train * IDF"
   ]
  },
  {
   "cell_type": "code",
   "execution_count": 8,
   "metadata": {},
   "outputs": [
    {
     "name": "stdout",
     "output_type": "stream",
     "text": [
      "k= 1: accuracy= 0.515\n",
      "k= 2: accuracy= 0.515\n",
      "k= 3: accuracy= 0.515\n",
      "k= 4: accuracy= 0.51\n",
      "k= 5: accuracy= 0.51\n",
      "k= 6: accuracy= 0.51\n",
      "k= 7: accuracy= 0.505\n",
      "k= 8: accuracy= 0.505\n",
      "k= 9: accuracy= 0.5\n",
      "k= 10: accuracy= 0.575\n",
      "k= 11: accuracy= 0.515\n",
      "k= 12: accuracy= 0.67\n",
      "k= 13: accuracy= 0.52\n",
      "k= 14: accuracy= 0.565\n",
      "k= 15: accuracy= 0.53\n",
      "k= 16: accuracy= 0.56\n",
      "k= 17: accuracy= 0.53\n",
      "k= 18: accuracy= 0.545\n",
      "k= 19: accuracy= 0.52\n",
      "k= 20: accuracy= 0.54\n"
     ]
    }
   ],
   "source": [
    "#with TF_IDF converted data\n",
    "for i in range(1,21):\n",
    "    b=accuracy_knn(test,te_lb,DT_tfidf,tr_lb,i,0)\n",
    "    print('k= {}: accuracy= {}'.format(i,b))    "
   ]
  },
  {
   "cell_type": "code",
   "execution_count": null,
   "metadata": {},
   "outputs": [],
   "source": []
  },
  {
   "cell_type": "code",
   "execution_count": null,
   "metadata": {},
   "outputs": [],
   "source": []
  },
  {
   "cell_type": "code",
   "execution_count": null,
   "metadata": {},
   "outputs": [],
   "source": []
  },
  {
   "cell_type": "code",
   "execution_count": null,
   "metadata": {},
   "outputs": [],
   "source": []
  },
  {
   "cell_type": "code",
   "execution_count": null,
   "metadata": {},
   "outputs": [],
   "source": []
  },
  {
   "cell_type": "code",
   "execution_count": null,
   "metadata": {},
   "outputs": [],
   "source": []
  },
  {
   "cell_type": "code",
   "execution_count": null,
   "metadata": {},
   "outputs": [],
   "source": []
  },
  {
   "cell_type": "code",
   "execution_count": null,
   "metadata": {},
   "outputs": [],
   "source": []
  },
  {
   "cell_type": "code",
   "execution_count": null,
   "metadata": {},
   "outputs": [],
   "source": []
  },
  {
   "cell_type": "code",
   "execution_count": null,
   "metadata": {},
   "outputs": [],
   "source": []
  },
  {
   "cell_type": "code",
   "execution_count": null,
   "metadata": {},
   "outputs": [],
   "source": []
  },
  {
   "cell_type": "code",
   "execution_count": null,
   "metadata": {},
   "outputs": [],
   "source": [
    "\n"
   ]
  },
  {
   "cell_type": "code",
   "execution_count": null,
   "metadata": {},
   "outputs": [],
   "source": []
  },
  {
   "cell_type": "code",
   "execution_count": 9,
   "metadata": {},
   "outputs": [],
   "source": [
    "#### Classification for accuracy"
   ]
  },
  {
   "cell_type": "code",
   "execution_count": null,
   "metadata": {},
   "outputs": [],
   "source": []
  },
  {
   "cell_type": "code",
   "execution_count": null,
   "metadata": {},
   "outputs": [],
   "source": []
  },
  {
   "cell_type": "code",
   "execution_count": null,
   "metadata": {},
   "outputs": [],
   "source": []
  },
  {
   "cell_type": "code",
   "execution_count": null,
   "metadata": {},
   "outputs": [],
   "source": []
  },
  {
   "cell_type": "code",
   "execution_count": null,
   "metadata": {},
   "outputs": [],
   "source": []
  },
  {
   "cell_type": "code",
   "execution_count": null,
   "metadata": {},
   "outputs": [],
   "source": []
  }
 ],
 "metadata": {
  "kernelspec": {
   "display_name": "Python 3",
   "language": "python",
   "name": "python3"
  },
  "language_info": {
   "codemirror_mode": {
    "name": "ipython",
    "version": 3
   },
   "file_extension": ".py",
   "mimetype": "text/x-python",
   "name": "python",
   "nbconvert_exporter": "python",
   "pygments_lexer": "ipython3",
   "version": "3.7.3"
  }
 },
 "nbformat": 4,
 "nbformat_minor": 2
}
